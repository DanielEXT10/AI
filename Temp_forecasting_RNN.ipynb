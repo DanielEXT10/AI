{
  "nbformat": 4,
  "nbformat_minor": 0,
  "metadata": {
    "colab": {
      "provenance": [],
      "gpuType": "T4",
      "include_colab_link": true
    },
    "kernelspec": {
      "display_name": "Python 3",
      "name": "python3"
    },
    "language_info": {
      "codemirror_mode": {
        "name": "ipython",
        "version": 3
      },
      "file_extension": ".py",
      "mimetype": "text/x-python",
      "name": "python",
      "nbconvert_exporter": "python",
      "pygments_lexer": "ipython3",
      "version": "3.8.5"
    },
    "accelerator": "GPU"
  },
  "cells": [
    {
      "cell_type": "markdown",
      "metadata": {
        "id": "view-in-github",
        "colab_type": "text"
      },
      "source": [
        "<a href=\"https://colab.research.google.com/github/DanielEXT10/AI/blob/main/Temp_forecasting_RNN.ipynb\" target=\"_parent\"><img src=\"https://colab.research.google.com/assets/colab-badge.svg\" alt=\"Open In Colab\"/></a>"
      ]
    },
    {
      "cell_type": "markdown",
      "metadata": {
        "collapsed": false,
        "id": "2yKYAEOUB70s"
      },
      "source": [
        "# Actividad 3: RNN y sus aplicaciones en las series temporales\n",
        "\n",
        "En esta actividad se va a aplicar el conocimiento adquirido sobre las RNN para entrenar modelos que sean capaces de predecir el comportamiento de las series temporales. Para ello, se usará un dataset de temperaturas para mediante la aplicación de RNN, predecir los valores futuros que tendrá la serie temporal que se tiene. Este trabajo se suele hacer mediante modelos ARIMA, pero en esta práctica se verá cómo el modelado mediante RNN es una opción muy buena en estos casos de series temporales."
      ]
    },
    {
      "cell_type": "markdown",
      "metadata": {
        "collapsed": false,
        "id": "IW24cRGrCrXZ"
      },
      "source": [
        "**1. Descargar el dataset y almacenarlo**\n",
        "\n",
        "En primer lugar hay que importar tensorflow."
      ]
    },
    {
      "cell_type": "code",
      "metadata": {
        "colab": {
          "base_uri": "https://localhost:8080/"
        },
        "id": "loO19CfCYC2V",
        "outputId": "28372f67-283f-451d-b856-31e6003ddce2"
      },
      "source": [
        "import tensorflow as tf\n",
        "device_name = tf.test.gpu_device_name()\n",
        "if device_name != '/device:GPU:0':\n",
        "  raise SystemError('GPU device not found')\n",
        "print('Found GPU at: {}'.format(device_name))\n",
        "\n",
        "print(tf.__version__)"
      ],
      "execution_count": 3,
      "outputs": [
        {
          "output_type": "stream",
          "name": "stdout",
          "text": [
            "Found GPU at: /device:GPU:0\n",
            "2.12.0\n"
          ]
        }
      ]
    },
    {
      "cell_type": "code",
      "source": [
        "import pandas as pd"
      ],
      "metadata": {
        "id": "zbbCBZlNZ0s1"
      },
      "execution_count": 4,
      "outputs": []
    },
    {
      "cell_type": "markdown",
      "metadata": {
        "collapsed": false,
        "id": "0ZTs4Cd0C49G"
      },
      "source": [
        "El siguiente paso es importar las bibliotecas numpy y matplotlib. Además, se define el método **plot_series** que se utilizará para hacer las gráficas de las series temporales."
      ]
    },
    {
      "cell_type": "code",
      "metadata": {
        "id": "gLNhTOGEYDbQ"
      },
      "source": [
        "import numpy as np\n",
        "import matplotlib.pyplot as plt\n",
        "def plot_series(time, series, format=\"-\", start=0, end=None):\n",
        "    plt.plot(time[start:end], series[start:end], format)\n",
        "    plt.xlabel(\"Time\")\n",
        "    plt.ylabel(\"Value\")\n",
        "    plt.grid(True)"
      ],
      "execution_count": 5,
      "outputs": []
    },
    {
      "cell_type": "markdown",
      "metadata": {
        "collapsed": false,
        "id": "8jbJP279DJha"
      },
      "source": [
        "A continuación se descarga el dataset de las temperaturas mínimas diarias."
      ]
    },
    {
      "cell_type": "code",
      "metadata": {
        "id": "AsXBJEeqYFbn",
        "colab": {
          "base_uri": "https://localhost:8080/"
        },
        "outputId": "5f096dce-086e-4be9-8583-594454f60e55"
      },
      "source": [
        "!wget --no-check-certificate \\\n",
        "    https://raw.githubusercontent.com/jbrownlee/Datasets/master/daily-min-temperatures.csv \\\n",
        "    -O /tmp/daily-min-temperatures.csv"
      ],
      "execution_count": 6,
      "outputs": [
        {
          "output_type": "stream",
          "name": "stdout",
          "text": [
            "--2023-08-31 12:32:39--  https://raw.githubusercontent.com/jbrownlee/Datasets/master/daily-min-temperatures.csv\n",
            "Resolving raw.githubusercontent.com (raw.githubusercontent.com)... 185.199.108.133, 185.199.109.133, 185.199.110.133, ...\n",
            "Connecting to raw.githubusercontent.com (raw.githubusercontent.com)|185.199.108.133|:443... connected.\n",
            "HTTP request sent, awaiting response... 200 OK\n",
            "Length: 67921 (66K) [text/plain]\n",
            "Saving to: ‘/tmp/daily-min-temperatures.csv’\n",
            "\n",
            "/tmp/daily-min-temp 100%[===================>]  66.33K  --.-KB/s    in 0.001s  \n",
            "\n",
            "2023-08-31 12:32:39 (52.9 MB/s) - ‘/tmp/daily-min-temperatures.csv’ saved [67921/67921]\n",
            "\n"
          ]
        }
      ]
    },
    {
      "cell_type": "markdown",
      "metadata": {
        "collapsed": false,
        "id": "jufo30y2DOIS"
      },
      "source": [
        "En este paso, se utilizará la biblioteca csv de Python para guardar y poder leer el dataset de temperaturas mínimas diarias que ha sido descargado en el paso anterior. Además, se construye la variable **series** que será donde se guarde la serie temporal. Por último, siempre que se trate con una serie temporal, es una buena práctica hacer un gráfico para poder verla y tener una idea de cómo es."
      ]
    },
    {
      "cell_type": "code",
      "metadata": {
        "id": "no85DGrbYHUM",
        "colab": {
          "base_uri": "https://localhost:8080/",
          "height": 542
        },
        "outputId": "4d5e7370-31fb-4cdf-ef0f-0cafe909f072"
      },
      "source": [
        "\n",
        "import csv\n",
        "time_step = []\n",
        "temps = []\n",
        "\n",
        "with open('/tmp/daily-min-temperatures.csv') as csvfile:\n",
        "  reader = csv.reader(csvfile, delimiter=',')\n",
        "  next(reader)\n",
        "  step=0\n",
        "  for row in reader:\n",
        "    temps.append(float(row[1]))\n",
        "    time_step.append(step)\n",
        "    step = step + 1\n",
        "\n",
        "series = np.array(temps)\n",
        "time = np.array(time_step)\n",
        "plt.figure(figsize=(10, 6))\n",
        "plot_series(time, series)"
      ],
      "execution_count": 7,
      "outputs": [
        {
          "output_type": "display_data",
          "data": {
            "text/plain": [
              "<Figure size 1000x600 with 1 Axes>"
            ],
            "image/png": "[encoded data removed]"
          },
          "metadata": {}
        }
      ]
    },
    {
      "cell_type": "code",
      "source": [
        "data_dict = {'time':time, 'Value':series}\n",
        "temp_df = pd.DataFrame(data_dict)"
      ],
      "metadata": {
        "id": "Ha2EPCl-ZtWO"
      },
      "execution_count": 11,
      "outputs": []
    },
    {
      "cell_type": "code",
      "source": [
        "temp_df"
      ],
      "metadata": {
        "colab": {
          "base_uri": "https://localhost:8080/",
          "height": 423
        },
        "id": "EfsM3fkHk_NY",
        "outputId": "146a4861-fa28-4acf-c6e8-0de722a52f24"
      },
      "execution_count": 12,
      "outputs": [
        {
          "output_type": "execute_result",
          "data": {
            "text/plain": [
              "      time  Value\n",
              "0        0   20.7\n",
              "1        1   17.9\n",
              "2        2   18.8\n",
              "3        3   14.6\n",
              "4        4   15.8\n",
              "...    ...    ...\n",
              "3645  3645   14.0\n",
              "3646  3646   13.6\n",
              "3647  3647   13.5\n",
              "3648  3648   15.7\n",
              "3649  3649   13.0\n",
              "\n",
              "[3650 rows x 2 columns]"
            ],
            "text/html": [
              "\n",
              "  <div id=\"df-7470da61-1fe5-448c-b671-6ba31d847931\" class=\"colab-df-container\">\n",
              "    <div>\n",
              "<style scoped>\n",
              "    .dataframe tbody tr th:only-of-type {\n",
              "        vertical-align: middle;\n",
              "    }\n",
              "\n",
              "    .dataframe tbody tr th {\n",
              "        vertical-align: top;\n",
              "    }\n",
              "\n",
              "    .dataframe thead th {\n",
              "        text-align: right;\n",
              "    }\n",
              "</style>\n",
              "<table border=\"1\" class=\"dataframe\">\n",
              "  <thead>\n",
              "    <tr style=\"text-align: right;\">\n",
              "      <th></th>\n",
              "      <th>time</th>\n",
              "      <th>Value</th>\n",
              "    </tr>\n",
              "  </thead>\n",
              "  <tbody>\n",
              "    <tr>\n",
              "      <th>0</th>\n",
              "      <td>0</td>\n",
              "      <td>20.7</td>\n",
              "    </tr>\n",
              "    <tr>\n",
              "      <th>1</th>\n",
              "      <td>1</td>\n",
              "      <td>17.9</td>\n",
              "    </tr>\n",
              "    <tr>\n",
              "      <th>2</th>\n",
              "      <td>2</td>\n",
              "      <td>18.8</td>\n",
              "    </tr>\n",
              "    <tr>\n",
              "      <th>3</th>\n",
              "      <td>3</td>\n",
              "      <td>14.6</td>\n",
              "    </tr>\n",
              "    <tr>\n",
              "      <th>4</th>\n",
              "      <td>4</td>\n",
              "      <td>15.8</td>\n",
              "    </tr>\n",
              "    <tr>\n",
              "      <th>...</th>\n",
              "      <td>...</td>\n",
              "      <td>...</td>\n",
              "    </tr>\n",
              "    <tr>\n",
              "      <th>3645</th>\n",
              "      <td>3645</td>\n",
              "      <td>14.0</td>\n",
              "    </tr>\n",
              "    <tr>\n",
              "      <th>3646</th>\n",
              "      <td>3646</td>\n",
              "      <td>13.6</td>\n",
              "    </tr>\n",
              "    <tr>\n",
              "      <th>3647</th>\n",
              "      <td>3647</td>\n",
              "      <td>13.5</td>\n",
              "    </tr>\n",
              "    <tr>\n",
              "      <th>3648</th>\n",
              "      <td>3648</td>\n",
              "      <td>15.7</td>\n",
              "    </tr>\n",
              "    <tr>\n",
              "      <th>3649</th>\n",
              "      <td>3649</td>\n",
              "      <td>13.0</td>\n",
              "    </tr>\n",
              "  </tbody>\n",
              "</table>\n",
              "<p>3650 rows × 2 columns</p>\n",
              "</div>\n",
              "    <div class=\"colab-df-buttons\">\n",
              "\n",
              "  <div class=\"colab-df-container\">\n",
              "    <button class=\"colab-df-convert\" onclick=\"convertToInteractive('df-7470da61-1fe5-448c-b671-6ba31d847931')\"\n",
              "            title=\"Convert this dataframe to an interactive table.\"\n",
              "            style=\"display:none;\">\n",
              "\n",
              "  <svg xmlns=\"http://www.w3.org/2000/svg\" height=\"24px\" viewBox=\"0 -960 960 960\">\n",
              "    <path d=\"M120-120v-720h720v720H120Zm60-500h600v-160H180v160Zm220 220h160v-160H400v160Zm0 220h160v-160H400v160ZM180-400h160v-160H180v160Zm440 0h160v-160H620v160ZM180-180h160v-160H180v160Zm440 0h160v-160H620v160Z\"/>\n",
              "  </svg>\n",
              "    </button>\n",
              "\n",
              "  <style>\n",
              "    .colab-df-container {\n",
              "      display:flex;\n",
              "      gap: 12px;\n",
              "    }\n",
              "\n",
              "    .colab-df-convert {\n",
              "      background-color: #E8F0FE;\n",
              "      border: none;\n",
              "      border-radius: 50%;\n",
              "      cursor: pointer;\n",
              "      display: none;\n",
              "      fill: #1967D2;\n",
              "      height: 32px;\n",
              "      padding: 0 0 0 0;\n",
              "      width: 32px;\n",
              "    }\n",
              "\n",
              "    .colab-df-convert:hover {\n",
              "      background-color: #E2EBFA;\n",
              "      box-shadow: 0px 1px 2px rgba(60, 64, 67, 0.3), 0px 1px 3px 1px rgba(60, 64, 67, 0.15);\n",
              "      fill: #174EA6;\n",
              "    }\n",
              "\n",
              "    .colab-df-buttons div {\n",
              "      margin-bottom: 4px;\n",
              "    }\n",
              "\n",
              "    [theme=dark] .colab-df-convert {\n",
              "      background-color: #3B4455;\n",
              "      fill: #D2E3FC;\n",
              "    }\n",
              "\n",
              "    [theme=dark] .colab-df-convert:hover {\n",
              "      background-color: #434B5C;\n",
              "      box-shadow: 0px 1px 3px 1px rgba(0, 0, 0, 0.15);\n",
              "      filter: drop-shadow(0px 1px 2px rgba(0, 0, 0, 0.3));\n",
              "      fill: #FFFFFF;\n",
              "    }\n",
              "  </style>\n",
              "\n",
              "    <script>\n",
              "      const buttonEl =\n",
              "        document.querySelector('#df-7470da61-1fe5-448c-b671-6ba31d847931 button.colab-df-convert');\n",
              "      buttonEl.style.display =\n",
              "        google.colab.kernel.accessAllowed ? 'block' : 'none';\n",
              "\n",
              "      async function convertToInteractive(key) {\n",
              "        const element = document.querySelector('#df-7470da61-1fe5-448c-b671-6ba31d847931');\n",
              "        const dataTable =\n",
              "          await google.colab.kernel.invokeFunction('convertToInteractive',\n",
              "                                                    [key], {});\n",
              "        if (!dataTable) return;\n",
              "\n",
              "        const docLinkHtml = 'Like what you see? Visit the ' +\n",
              "          '<a target=\"_blank\" href=https://colab.research.google.com/notebooks/data_table.ipynb>data table notebook</a>'\n",
              "          + ' to learn more about interactive tables.';\n",
              "        element.innerHTML = '';\n",
              "        dataTable['output_type'] = 'display_data';\n",
              "        await google.colab.output.renderOutput(dataTable, element);\n",
              "        const docLink = document.createElement('div');\n",
              "        docLink.innerHTML = docLinkHtml;\n",
              "        element.appendChild(docLink);\n",
              "      }\n",
              "    </script>\n",
              "  </div>\n",
              "\n",
              "\n",
              "<div id=\"df-156ba43a-2d7d-4267-a60c-1ba5cc770801\">\n",
              "  <button class=\"colab-df-quickchart\" onclick=\"quickchart('df-156ba43a-2d7d-4267-a60c-1ba5cc770801')\"\n",
              "            title=\"Suggest charts.\"\n",
              "            style=\"display:none;\">\n",
              "\n",
              "<svg xmlns=\"http://www.w3.org/2000/svg\" height=\"24px\"viewBox=\"0 0 24 24\"\n",
              "     width=\"24px\">\n",
              "    <g>\n",
              "        <path d=\"M19 3H5c-1.1 0-2 .9-2 2v14c0 1.1.9 2 2 2h14c1.1 0 2-.9 2-2V5c0-1.1-.9-2-2-2zM9 17H7v-7h2v7zm4 0h-2V7h2v10zm4 0h-2v-4h2v4z\"/>\n",
              "    </g>\n",
              "</svg>\n",
              "  </button>\n",
              "\n",
              "<style>\n",
              "  .colab-df-quickchart {\n",
              "    background-color: #E8F0FE;\n",
              "    border: none;\n",
              "    border-radius: 50%;\n",
              "    cursor: pointer;\n",
              "    display: none;\n",
              "    fill: #1967D2;\n",
              "    height: 32px;\n",
              "    padding: 0 0 0 0;\n",
              "    width: 32px;\n",
              "  }\n",
              "\n",
              "  .colab-df-quickchart:hover {\n",
              "    background-color: #E2EBFA;\n",
              "    box-shadow: 0px 1px 2px rgba(60, 64, 67, 0.3), 0px 1px 3px 1px rgba(60, 64, 67, 0.15);\n",
              "    fill: #174EA6;\n",
              "  }\n",
              "\n",
              "  [theme=dark] .colab-df-quickchart {\n",
              "    background-color: #3B4455;\n",
              "    fill: #D2E3FC;\n",
              "  }\n",
              "\n",
              "  [theme=dark] .colab-df-quickchart:hover {\n",
              "    background-color: #434B5C;\n",
              "    box-shadow: 0px 1px 3px 1px rgba(0, 0, 0, 0.15);\n",
              "    filter: drop-shadow(0px 1px 2px rgba(0, 0, 0, 0.3));\n",
              "    fill: #FFFFFF;\n",
              "  }\n",
              "</style>\n",
              "\n",
              "  <script>\n",
              "    async function quickchart(key) {\n",
              "      const charts = await google.colab.kernel.invokeFunction(\n",
              "          'suggestCharts', [key], {});\n",
              "    }\n",
              "    (() => {\n",
              "      let quickchartButtonEl =\n",
              "        document.querySelector('#df-156ba43a-2d7d-4267-a60c-1ba5cc770801 button');\n",
              "      quickchartButtonEl.style.display =\n",
              "        google.colab.kernel.accessAllowed ? 'block' : 'none';\n",
              "    })();\n",
              "  </script>\n",
              "</div>\n",
              "    </div>\n",
              "  </div>\n"
            ]
          },
          "metadata": {},
          "execution_count": 12
        }
      ]
    },
    {
      "cell_type": "code",
      "source": [],
      "metadata": {
        "id": "fR4QyvLqFZSC"
      },
      "execution_count": 9,
      "outputs": []
    },
    {
      "cell_type": "markdown",
      "metadata": {
        "collapsed": false,
        "id": "kyejfTbWL5Km"
      },
      "source": [
        "# 2. Creación de las variables necesarias para el diseño de la red neuronal"
      ]
    },
    {
      "cell_type": "markdown",
      "metadata": {
        "collapsed": false,
        "id": "CtvcOIk1Dxod"
      },
      "source": [
        "Una técnica muy común cuando se trata con series temporales es utilizar una ventana temporal que se vaya desplazando sobre la serie temporal para reducir su análisis a lo que ocurre en ese ventana de forma local, para a continuación realizar el modelado global.\n",
        "\n",
        "**Ejercicio 1 (0.4 puntos)**: Crear las variables de entrenamiento y validación y hacer la partición de las mismas. Las variables que hay que crear son:\n",
        "\n",
        "*   time_train\n",
        "*   x_train\n",
        "*   time_valid\n",
        "*   x_valid\n",
        "\n",
        "\n",
        "\n"
      ]
    },
    {
      "cell_type": "code",
      "source": [
        "temp_df"
      ],
      "metadata": {
        "colab": {
          "base_uri": "https://localhost:8080/",
          "height": 423
        },
        "id": "8OayWdn5kmxC",
        "outputId": "5d1b7901-4d06-4756-de81-b7aafbb514ac"
      },
      "execution_count": 13,
      "outputs": [
        {
          "output_type": "execute_result",
          "data": {
            "text/plain": [
              "      time  Value\n",
              "0        0   20.7\n",
              "1        1   17.9\n",
              "2        2   18.8\n",
              "3        3   14.6\n",
              "4        4   15.8\n",
              "...    ...    ...\n",
              "3645  3645   14.0\n",
              "3646  3646   13.6\n",
              "3647  3647   13.5\n",
              "3648  3648   15.7\n",
              "3649  3649   13.0\n",
              "\n",
              "[3650 rows x 2 columns]"
            ],
            "text/html": [
              "\n",
              "  <div id=\"df-d6df6ed6-ae28-46f9-b069-d10248690c00\" class=\"colab-df-container\">\n",
              "    <div>\n",
              "<style scoped>\n",
              "    .dataframe tbody tr th:only-of-type {\n",
              "        vertical-align: middle;\n",
              "    }\n",
              "\n",
              "    .dataframe tbody tr th {\n",
              "        vertical-align: top;\n",
              "    }\n",
              "\n",
              "    .dataframe thead th {\n",
              "        text-align: right;\n",
              "    }\n",
              "</style>\n",
              "<table border=\"1\" class=\"dataframe\">\n",
              "  <thead>\n",
              "    <tr style=\"text-align: right;\">\n",
              "      <th></th>\n",
              "      <th>time</th>\n",
              "      <th>Value</th>\n",
              "    </tr>\n",
              "  </thead>\n",
              "  <tbody>\n",
              "    <tr>\n",
              "      <th>0</th>\n",
              "      <td>0</td>\n",
              "      <td>20.7</td>\n",
              "    </tr>\n",
              "    <tr>\n",
              "      <th>1</th>\n",
              "      <td>1</td>\n",
              "      <td>17.9</td>\n",
              "    </tr>\n",
              "    <tr>\n",
              "      <th>2</th>\n",
              "      <td>2</td>\n",
              "      <td>18.8</td>\n",
              "    </tr>\n",
              "    <tr>\n",
              "      <th>3</th>\n",
              "      <td>3</td>\n",
              "      <td>14.6</td>\n",
              "    </tr>\n",
              "    <tr>\n",
              "      <th>4</th>\n",
              "      <td>4</td>\n",
              "      <td>15.8</td>\n",
              "    </tr>\n",
              "    <tr>\n",
              "      <th>...</th>\n",
              "      <td>...</td>\n",
              "      <td>...</td>\n",
              "    </tr>\n",
              "    <tr>\n",
              "      <th>3645</th>\n",
              "      <td>3645</td>\n",
              "      <td>14.0</td>\n",
              "    </tr>\n",
              "    <tr>\n",
              "      <th>3646</th>\n",
              "      <td>3646</td>\n",
              "      <td>13.6</td>\n",
              "    </tr>\n",
              "    <tr>\n",
              "      <th>3647</th>\n",
              "      <td>3647</td>\n",
              "      <td>13.5</td>\n",
              "    </tr>\n",
              "    <tr>\n",
              "      <th>3648</th>\n",
              "      <td>3648</td>\n",
              "      <td>15.7</td>\n",
              "    </tr>\n",
              "    <tr>\n",
              "      <th>3649</th>\n",
              "      <td>3649</td>\n",
              "      <td>13.0</td>\n",
              "    </tr>\n",
              "  </tbody>\n",
              "</table>\n",
              "<p>3650 rows × 2 columns</p>\n",
              "</div>\n",
              "    <div class=\"colab-df-buttons\">\n",
              "\n",
              "  <div class=\"colab-df-container\">\n",
              "    <button class=\"colab-df-convert\" onclick=\"convertToInteractive('df-d6df6ed6-ae28-46f9-b069-d10248690c00')\"\n",
              "            title=\"Convert this dataframe to an interactive table.\"\n",
              "            style=\"display:none;\">\n",
              "\n",
              "  <svg xmlns=\"http://www.w3.org/2000/svg\" height=\"24px\" viewBox=\"0 -960 960 960\">\n",
              "    <path d=\"M120-120v-720h720v720H120Zm60-500h600v-160H180v160Zm220 220h160v-160H400v160Zm0 220h160v-160H400v160ZM180-400h160v-160H180v160Zm440 0h160v-160H620v160ZM180-180h160v-160H180v160Zm440 0h160v-160H620v160Z\"/>\n",
              "  </svg>\n",
              "    </button>\n",
              "\n",
              "  <style>\n",
              "    .colab-df-container {\n",
              "      display:flex;\n",
              "      gap: 12px;\n",
              "    }\n",
              "\n",
              "    .colab-df-convert {\n",
              "      background-color: #E8F0FE;\n",
              "      border: none;\n",
              "      border-radius: 50%;\n",
              "      cursor: pointer;\n",
              "      display: none;\n",
              "      fill: #1967D2;\n",
              "      height: 32px;\n",
              "      padding: 0 0 0 0;\n",
              "      width: 32px;\n",
              "    }\n",
              "\n",
              "    .colab-df-convert:hover {\n",
              "      background-color: #E2EBFA;\n",
              "      box-shadow: 0px 1px 2px rgba(60, 64, 67, 0.3), 0px 1px 3px 1px rgba(60, 64, 67, 0.15);\n",
              "      fill: #174EA6;\n",
              "    }\n",
              "\n",
              "    .colab-df-buttons div {\n",
              "      margin-bottom: 4px;\n",
              "    }\n",
              "\n",
              "    [theme=dark] .colab-df-convert {\n",
              "      background-color: #3B4455;\n",
              "      fill: #D2E3FC;\n",
              "    }\n",
              "\n",
              "    [theme=dark] .colab-df-convert:hover {\n",
              "      background-color: #434B5C;\n",
              "      box-shadow: 0px 1px 3px 1px rgba(0, 0, 0, 0.15);\n",
              "      filter: drop-shadow(0px 1px 2px rgba(0, 0, 0, 0.3));\n",
              "      fill: #FFFFFF;\n",
              "    }\n",
              "  </style>\n",
              "\n",
              "    <script>\n",
              "      const buttonEl =\n",
              "        document.querySelector('#df-d6df6ed6-ae28-46f9-b069-d10248690c00 button.colab-df-convert');\n",
              "      buttonEl.style.display =\n",
              "        google.colab.kernel.accessAllowed ? 'block' : 'none';\n",
              "\n",
              "      async function convertToInteractive(key) {\n",
              "        const element = document.querySelector('#df-d6df6ed6-ae28-46f9-b069-d10248690c00');\n",
              "        const dataTable =\n",
              "          await google.colab.kernel.invokeFunction('convertToInteractive',\n",
              "                                                    [key], {});\n",
              "        if (!dataTable) return;\n",
              "\n",
              "        const docLinkHtml = 'Like what you see? Visit the ' +\n",
              "          '<a target=\"_blank\" href=https://colab.research.google.com/notebooks/data_table.ipynb>data table notebook</a>'\n",
              "          + ' to learn more about interactive tables.';\n",
              "        element.innerHTML = '';\n",
              "        dataTable['output_type'] = 'display_data';\n",
              "        await google.colab.output.renderOutput(dataTable, element);\n",
              "        const docLink = document.createElement('div');\n",
              "        docLink.innerHTML = docLinkHtml;\n",
              "        element.appendChild(docLink);\n",
              "      }\n",
              "    </script>\n",
              "  </div>\n",
              "\n",
              "\n",
              "<div id=\"df-ef59928f-866f-447f-9d79-564963a0ae7f\">\n",
              "  <button class=\"colab-df-quickchart\" onclick=\"quickchart('df-ef59928f-866f-447f-9d79-564963a0ae7f')\"\n",
              "            title=\"Suggest charts.\"\n",
              "            style=\"display:none;\">\n",
              "\n",
              "<svg xmlns=\"http://www.w3.org/2000/svg\" height=\"24px\"viewBox=\"0 0 24 24\"\n",
              "     width=\"24px\">\n",
              "    <g>\n",
              "        <path d=\"M19 3H5c-1.1 0-2 .9-2 2v14c0 1.1.9 2 2 2h14c1.1 0 2-.9 2-2V5c0-1.1-.9-2-2-2zM9 17H7v-7h2v7zm4 0h-2V7h2v10zm4 0h-2v-4h2v4z\"/>\n",
              "    </g>\n",
              "</svg>\n",
              "  </button>\n",
              "\n",
              "<style>\n",
              "  .colab-df-quickchart {\n",
              "    background-color: #E8F0FE;\n",
              "    border: none;\n",
              "    border-radius: 50%;\n",
              "    cursor: pointer;\n",
              "    display: none;\n",
              "    fill: #1967D2;\n",
              "    height: 32px;\n",
              "    padding: 0 0 0 0;\n",
              "    width: 32px;\n",
              "  }\n",
              "\n",
              "  .colab-df-quickchart:hover {\n",
              "    background-color: #E2EBFA;\n",
              "    box-shadow: 0px 1px 2px rgba(60, 64, 67, 0.3), 0px 1px 3px 1px rgba(60, 64, 67, 0.15);\n",
              "    fill: #174EA6;\n",
              "  }\n",
              "\n",
              "  [theme=dark] .colab-df-quickchart {\n",
              "    background-color: #3B4455;\n",
              "    fill: #D2E3FC;\n",
              "  }\n",
              "\n",
              "  [theme=dark] .colab-df-quickchart:hover {\n",
              "    background-color: #434B5C;\n",
              "    box-shadow: 0px 1px 3px 1px rgba(0, 0, 0, 0.15);\n",
              "    filter: drop-shadow(0px 1px 2px rgba(0, 0, 0, 0.3));\n",
              "    fill: #FFFFFF;\n",
              "  }\n",
              "</style>\n",
              "\n",
              "  <script>\n",
              "    async function quickchart(key) {\n",
              "      const charts = await google.colab.kernel.invokeFunction(\n",
              "          'suggestCharts', [key], {});\n",
              "    }\n",
              "    (() => {\n",
              "      let quickchartButtonEl =\n",
              "        document.querySelector('#df-ef59928f-866f-447f-9d79-564963a0ae7f button');\n",
              "      quickchartButtonEl.style.display =\n",
              "        google.colab.kernel.accessAllowed ? 'block' : 'none';\n",
              "    })();\n",
              "  </script>\n",
              "</div>\n",
              "    </div>\n",
              "  </div>\n"
            ]
          },
          "metadata": {},
          "execution_count": 13
        }
      ]
    },
    {
      "cell_type": "code",
      "metadata": {
        "id": "IjiQ6hCWYI47"
      },
      "source": [
        "## variables para la técnica de la ventana temporal\n",
        "split_time = 2921\n",
        "window_size = 30\n",
        "batch_size = 32\n",
        "shuffle_buffer_size = 1000\n",
        "\n",
        "## Split del dataset en entrenamiento y validación\n",
        "\n",
        "time = temp_df['time']\n",
        "temp = temp_df['Value']\n",
        "\n",
        "train_index = int(len(time)*0.8)\n",
        "time_train = time[:train_index]\n",
        "x_train = temp[:train_index]\n",
        "\n",
        "time_valid = time[train_index+1:]\n",
        "x_valid = temp[train_index+1:]\n",
        "\n",
        "## tu código para la creación de las 4 variables del ejercicio 1 aquí"
      ],
      "execution_count": 37,
      "outputs": []
    },
    {
      "cell_type": "code",
      "source": [
        "time_valid"
      ],
      "metadata": {
        "colab": {
          "base_uri": "https://localhost:8080/"
        },
        "id": "AMae02v8q5ea",
        "outputId": "a41addd0-5a6a-49c7-b026-f3ab21449a3e"
      },
      "execution_count": 36,
      "outputs": [
        {
          "output_type": "execute_result",
          "data": {
            "text/plain": [
              "2921    2921\n",
              "2922    2922\n",
              "2923    2923\n",
              "2924    2924\n",
              "2925    2925\n",
              "        ... \n",
              "3645    3645\n",
              "3646    3646\n",
              "3647    3647\n",
              "3648    3648\n",
              "3649    3649\n",
              "Name: time, Length: 729, dtype: int64"
            ]
          },
          "metadata": {},
          "execution_count": 36
        }
      ]
    },
    {
      "cell_type": "markdown",
      "metadata": {
        "collapsed": false,
        "id": "qk5l4wEPFmDM"
      },
      "source": [
        "2. Creación del método **windowed_datset** para poder utilizarlo en el modelo. Las entradas por parámetros del método son:\n",
        "\n",
        "*   series\n",
        "*   window_size\n",
        "*   batch_size\n",
        "*   shuffle_buffer\n",
        "\n",
        "El resto de elementos que se usan para construir la función ventana temporal para explorar el dataset, son métodos de Python para tratar con series temporales.\n",
        "\n",
        "\n"
      ]
    },
    {
      "cell_type": "markdown",
      "metadata": {
        "collapsed": false,
        "id": "AxzoP0UXL_jP"
      },
      "source": [
        "# 3. Diseño de la función para predecir los siguientes valores de la serie temporal usando la técnica de la ventana temporal"
      ]
    },
    {
      "cell_type": "code",
      "metadata": {
        "id": "40vSdZ7pYK6S"
      },
      "source": [
        "def windowed_dataset(series, window_size, batch_size, shuffle_buffer):\n",
        "    series = tf.expand_dims(series, axis=-1)\n",
        "    ds = tf.data.Dataset.from_tensor_slices(series)\n",
        "    ds = ds.window(window_size + 1, shift=1, drop_remainder=True)\n",
        "    ds = ds.flat_map(lambda w: w.batch(window_size + 1))\n",
        "    ds = ds.shuffle(shuffle_buffer)\n",
        "    ds = ds.map(lambda w: (w[:-1], w[1:]))\n",
        "    return ds.batch(batch_size).prefetch(1)"
      ],
      "execution_count": 15,
      "outputs": []
    },
    {
      "cell_type": "markdown",
      "metadata": {
        "collapsed": false,
        "id": "TpTqdDfYGf_W"
      },
      "source": [
        "A continuación, y usando como modelo el método **windowed_dataset** se procederá a adaptar el método **model_forecast** que se usará para predecir los siguientes valores de la serie temporal utilizando la técnica de la ventana temporal.\n",
        "\n",
        "**Ejercicio 2 (1.6 puntos)**: completar el método model_forecast creando los elementos necesarios dentro del método:\n",
        "\n",
        "1.   Crear la variable **ds** y darle el valor resultante del método **from_tensor_slices** pasando por parametro **series** **(0.4 puntos)**\n",
        "2.   Actualizar la ventana (**window**) de la variable **ds** (nota: en este caso el tamaño es el mismo de la ventana, no es necesario que sea window_size+1) **(0.4 puntos)**\n",
        "3.   Crear el **flat_map** de la variable, teniendo en cuenta que el tamaño es **window_size** **(0.4 puntos)**\n",
        "4.   Añadir la siguiente linea de código: ds = ds.batch(32).prefetch(1)\n",
        "5.   Crear la variable **forecast** en la que se usará el método **predict** **(0.4 puntos)**\n",
        "6.   Por último, se devolverá la variable forecast.\n",
        "\n",
        "\n"
      ]
    },
    {
      "cell_type": "code",
      "metadata": {
        "id": "1eYlrylwYNqa"
      },
      "source": [
        "def model_forecast(model, series, window_size):\n",
        "    series = tf.expand_dims(series, axis=-1)\n",
        "\n",
        "    # Create the initial dataset\n",
        "    ds = tf.data.Dataset.from_tensor_slices(series)\n",
        "\n",
        "    # Window the dataset\n",
        "    ds = ds.window(window_size, shift=1, drop_remainder=True)\n",
        "    ds = ds.flat_map(lambda w: w.batch(window_size))\n",
        "\n",
        "    # Batch and prefetch the dataset\n",
        "    ds = ds.batch(32).prefetch(1)\n",
        "\n",
        "    forecast = model.predict(ds)\n",
        "\n",
        "    return forecast\n",
        "\n",
        "\n",
        "## tu código para el método model_forecast del ejercicio 2 a\n"
      ],
      "execution_count": 16,
      "outputs": []
    },
    {
      "cell_type": "markdown",
      "metadata": {
        "collapsed": false,
        "id": "SY2SZ_GsJBx4"
      },
      "source": [
        "A continuación, se limpia la sesión de keras, y se inicializan las variables necesarias para poder diseñar el modelo de series temporales a entrenar usando RNN."
      ]
    },
    {
      "cell_type": "code",
      "metadata": {
        "id": "DAUtfBB9JR2p"
      },
      "source": [
        "tf.keras.backend.clear_session()\n",
        "tf.random.set_seed(51)\n",
        "np.random.seed(51)\n",
        "window_size = 64\n",
        "batch_size = 256"
      ],
      "execution_count": 17,
      "outputs": []
    },
    {
      "cell_type": "markdown",
      "metadata": {
        "collapsed": false,
        "id": "4mOXrfFVMKRA"
      },
      "source": [
        "# 4. Diseño de la red neuronal"
      ]
    },
    {
      "cell_type": "markdown",
      "metadata": {
        "collapsed": false,
        "id": "T6YG9YclJk9n"
      },
      "source": [
        "**Ejercicio 3.1 (0.5 puntos)**: Hay que crear la variable **train_set** dandole el valor que se reciba del método **windowed_datset**, los parametros que debe recibir este método son: **x_train, window_size, batch_size, shuffle_buffer_size**"
      ]
    },
    {
      "cell_type": "code",
      "metadata": {
        "id": "iqgS7tu5JUc5"
      },
      "source": [
        "## tu código aquí para el ejercicio 3\n",
        "train_set = windowed_dataset(x_train, window_size, batch_size, shuffle_buffer_size)"
      ],
      "execution_count": 18,
      "outputs": []
    },
    {
      "cell_type": "code",
      "source": [
        "train_set"
      ],
      "metadata": {
        "id": "qe32hYRxakVn",
        "outputId": "7c1741ca-30b7-45b8-a74a-f25232ab322b",
        "colab": {
          "base_uri": "https://localhost:8080/"
        }
      },
      "execution_count": 20,
      "outputs": [
        {
          "output_type": "execute_result",
          "data": {
            "text/plain": [
              "<_PrefetchDataset element_spec=(TensorSpec(shape=(None, None, 1), dtype=tf.float64, name=None), TensorSpec(shape=(None, None, 1), dtype=tf.float64, name=None))>"
            ]
          },
          "metadata": {},
          "execution_count": 20
        }
      ]
    },
    {
      "cell_type": "markdown",
      "metadata": {
        "collapsed": false,
        "id": "SgrrsFHxKVWO"
      },
      "source": [
        "**Ejercicio 3.2 (4 puntos)**: Se debe construir la red neuronal de aprendizaje profunda basada para modelar la serie temporal de las temperaturas minimas diarias. Esta red neuronal debera contar con las siguientes capas ocultas:\n",
        "\n",
        "1.   Una capa de convolución en una dimensión que tenga 32 filtros, una tamaño del kernel de 5, un stride de 1, padding \"causal\", la función de activación debe ser relu y el input shape debe ser [None, 1]\n",
        "2.   Una capa LSTM con 64 neuronas y retorno de secuencias\n",
        "3.   Una capa LSTM con 64 neuronas y retorno de secuencias\n",
        "4.   Una capa densa con 30 neuronas\n",
        "5.   Una capa densa con 10 neuronas\n",
        "6.   Una capa densa con 1 neuronas\n",
        "7.   Por último, se añade la siguiente capa: tf.keras.layers.Lambda(lambda x: x * 400)\n",
        "\n",
        "\n"
      ]
    },
    {
      "cell_type": "code",
      "metadata": {
        "id": "yswRAtQ6JWvd"
      },
      "source": [
        "## tu código para la red neuronal del ejercicio 4 aquí\n",
        "import tensorflow as tf\n",
        "from tensorflow.keras.models import Sequential\n",
        "from tensorflow.keras.layers import Conv1D, LSTM, Dense, Lambda\n",
        "\n",
        "# Definir la arquitectura de la red neuronal\n",
        "model = Sequential([\n",
        "    Conv1D(filters=32, kernel_size=5, strides=1, padding='causal', activation='relu', input_shape=(None, 1)),\n",
        "    LSTM(64, return_sequences=True),\n",
        "    LSTM(64, return_sequences=True),\n",
        "    Dense(30, activation='relu'),\n",
        "    Dense(10, activation='relu'),\n",
        "    Dense(1),\n",
        "    Lambda(lambda x: x * 400)\n",
        "])\n",
        "\n"
      ],
      "execution_count": 21,
      "outputs": []
    },
    {
      "cell_type": "markdown",
      "metadata": {
        "collapsed": false,
        "id": "W3VhCNbVLyPj"
      },
      "source": [
        "# 5. Entrenamiento de la red neuronal"
      ]
    },
    {
      "cell_type": "markdown",
      "metadata": {
        "collapsed": false,
        "id": "IvaUY4TmMUpa"
      },
      "source": [
        "**Ejercicio 4 (0.5 puntos)**: Se va a diseñar un método callbacks para el learning rate que será guardado en la variable **lr_schedule**, este método deberá usar el método **LearningRateScheduler** de Python y será una función **lambda** que le de el valor a epoch de 1e-8 * 10 **(epoch / 20)"
      ]
    },
    {
      "cell_type": "code",
      "metadata": {
        "id": "s8YmUm3WJZdm"
      },
      "source": [
        "## tu código para crear la variable lr_schedule aquí\n",
        "\n",
        "from tensorflow.keras.callbacks import LearningRateScheduler\n",
        "lr_schedule = LearningRateScheduler(lambda epoch: 1e-8 *10 **(epoch/20))"
      ],
      "execution_count": 22,
      "outputs": []
    },
    {
      "cell_type": "markdown",
      "metadata": {
        "collapsed": false,
        "id": "g6xI_87qNgzg"
      },
      "source": [
        "**Ejercicio 5 (1.5 puntos):** Compilar la red neuronal con los siguientes parametros:\n",
        "\n",
        "*   loss: método Huber de keras\n",
        "*   El optimizador debe ser el SGD con learning rate 1e-8 y momentum 0.9\n",
        "*   La métrica a visualizar es el error absoluto medio (medium absolute error en ingles)\n",
        "\n"
      ]
    },
    {
      "cell_type": "code",
      "metadata": {
        "id": "vYCGYDj3OI97"
      },
      "source": [
        "## tu código para compilar la red neuronal para el ejercicio 5 aquí\n",
        "from tensorflow.keras.optimizers import SGD\n",
        "from tensorflow.keras.losses import Huber\n",
        "from tensorflow.keras.metrics import MeanAbsoluteError\n",
        "\n",
        "optimizer =SGD(learning_rate=1e-8, momentum=0.9)\n",
        "model.compile(optimizer=optimizer, loss=Huber(), metrics=[MeanAbsoluteError()])"
      ],
      "execution_count": 23,
      "outputs": []
    },
    {
      "cell_type": "markdown",
      "metadata": {
        "collapsed": false,
        "id": "kYcl-m5_ORq0"
      },
      "source": [
        "Para terminar se entrena el modelo previamente diseñado y compilado en los pasos anteriores."
      ]
    },
    {
      "cell_type": "code",
      "metadata": {
        "id": "P8788Rd6YXDm",
        "colab": {
          "base_uri": "https://localhost:8080/"
        },
        "outputId": "ca97bb4d-4af6-4bae-b502-8c48d178ff2a"
      },
      "source": [
        "history = model.fit(train_set, epochs=100, callbacks=[lr_schedule])"
      ],
      "execution_count": 24,
      "outputs": [
        {
          "output_type": "stream",
          "name": "stdout",
          "text": [
            "Epoch 1/100\n",
            "12/12 [==============================] - 17s 107ms/step - loss: 12.5449 - mean_absolute_error: 13.0377 - lr: 1.0000e-08\n",
            "Epoch 2/100\n",
            "12/12 [==============================] - 1s 53ms/step - loss: 12.0749 - mean_absolute_error: 12.5678 - lr: 1.1220e-08\n",
            "Epoch 3/100\n",
            "12/12 [==============================] - 1s 45ms/step - loss: 11.4857 - mean_absolute_error: 11.9773 - lr: 1.2589e-08\n",
            "Epoch 4/100\n",
            "12/12 [==============================] - 1s 47ms/step - loss: 10.9455 - mean_absolute_error: 11.4371 - lr: 1.4125e-08\n",
            "Epoch 5/100\n",
            "12/12 [==============================] - 1s 47ms/step - loss: 10.5115 - mean_absolute_error: 11.0032 - lr: 1.5849e-08\n",
            "Epoch 6/100\n",
            "12/12 [==============================] - 1s 45ms/step - loss: 10.1758 - mean_absolute_error: 10.6670 - lr: 1.7783e-08\n",
            "Epoch 7/100\n",
            "12/12 [==============================] - 1s 44ms/step - loss: 9.9064 - mean_absolute_error: 10.3984 - lr: 1.9953e-08\n",
            "Epoch 8/100\n",
            "12/12 [==============================] - 1s 46ms/step - loss: 9.6902 - mean_absolute_error: 10.1824 - lr: 2.2387e-08\n",
            "Epoch 9/100\n",
            "12/12 [==============================] - 1s 45ms/step - loss: 9.4957 - mean_absolute_error: 9.9875 - lr: 2.5119e-08\n",
            "Epoch 10/100\n",
            "12/12 [==============================] - 1s 44ms/step - loss: 9.3103 - mean_absolute_error: 9.8022 - lr: 2.8184e-08\n",
            "Epoch 11/100\n",
            "12/12 [==============================] - 1s 45ms/step - loss: 9.1285 - mean_absolute_error: 9.6210 - lr: 3.1623e-08\n",
            "Epoch 12/100\n",
            "12/12 [==============================] - 1s 47ms/step - loss: 8.9333 - mean_absolute_error: 9.4258 - lr: 3.5481e-08\n",
            "Epoch 13/100\n",
            "12/12 [==============================] - 1s 85ms/step - loss: 8.7238 - mean_absolute_error: 9.2159 - lr: 3.9811e-08\n",
            "Epoch 14/100\n",
            "12/12 [==============================] - 1s 87ms/step - loss: 8.4960 - mean_absolute_error: 8.9876 - lr: 4.4668e-08\n",
            "Epoch 15/100\n",
            "12/12 [==============================] - 1s 45ms/step - loss: 8.2484 - mean_absolute_error: 8.7393 - lr: 5.0119e-08\n",
            "Epoch 16/100\n",
            "12/12 [==============================] - 1s 44ms/step - loss: 7.9796 - mean_absolute_error: 8.4695 - lr: 5.6234e-08\n",
            "Epoch 17/100\n",
            "12/12 [==============================] - 1s 43ms/step - loss: 7.6916 - mean_absolute_error: 8.1809 - lr: 6.3096e-08\n",
            "Epoch 18/100\n",
            "12/12 [==============================] - 1s 45ms/step - loss: 7.3885 - mean_absolute_error: 7.8768 - lr: 7.0795e-08\n",
            "Epoch 19/100\n",
            "12/12 [==============================] - 1s 42ms/step - loss: 7.0704 - mean_absolute_error: 7.5575 - lr: 7.9433e-08\n",
            "Epoch 20/100\n",
            "12/12 [==============================] - 1s 45ms/step - loss: 6.7387 - mean_absolute_error: 7.2248 - lr: 8.9125e-08\n",
            "Epoch 21/100\n",
            "12/12 [==============================] - 1s 43ms/step - loss: 6.4015 - mean_absolute_error: 6.8867 - lr: 1.0000e-07\n",
            "Epoch 22/100\n",
            "12/12 [==============================] - 1s 44ms/step - loss: 6.0628 - mean_absolute_error: 6.5466 - lr: 1.1220e-07\n",
            "Epoch 23/100\n",
            "12/12 [==============================] - 1s 46ms/step - loss: 5.7246 - mean_absolute_error: 6.2070 - lr: 1.2589e-07\n",
            "Epoch 24/100\n",
            "12/12 [==============================] - 1s 86ms/step - loss: 5.3909 - mean_absolute_error: 5.8723 - lr: 1.4125e-07\n",
            "Epoch 25/100\n",
            "12/12 [==============================] - 1s 44ms/step - loss: 5.0616 - mean_absolute_error: 5.5415 - lr: 1.5849e-07\n",
            "Epoch 26/100\n",
            "12/12 [==============================] - 1s 42ms/step - loss: 4.7407 - mean_absolute_error: 5.2186 - lr: 1.7783e-07\n",
            "Epoch 27/100\n",
            "12/12 [==============================] - 1s 44ms/step - loss: 4.4226 - mean_absolute_error: 4.8981 - lr: 1.9953e-07\n",
            "Epoch 28/100\n",
            "12/12 [==============================] - 1s 45ms/step - loss: 4.1174 - mean_absolute_error: 4.5911 - lr: 2.2387e-07\n",
            "Epoch 29/100\n",
            "12/12 [==============================] - 1s 45ms/step - loss: 3.8242 - mean_absolute_error: 4.2965 - lr: 2.5119e-07\n",
            "Epoch 30/100\n",
            "12/12 [==============================] - 1s 46ms/step - loss: 3.5516 - mean_absolute_error: 4.0219 - lr: 2.8184e-07\n",
            "Epoch 31/100\n",
            "12/12 [==============================] - 1s 46ms/step - loss: 3.3031 - mean_absolute_error: 3.7723 - lr: 3.1623e-07\n",
            "Epoch 32/100\n",
            "12/12 [==============================] - 1s 44ms/step - loss: 3.0877 - mean_absolute_error: 3.5552 - lr: 3.5481e-07\n",
            "Epoch 33/100\n",
            "12/12 [==============================] - 1s 45ms/step - loss: 2.9161 - mean_absolute_error: 3.3829 - lr: 3.9811e-07\n",
            "Epoch 34/100\n",
            "12/12 [==============================] - 1s 47ms/step - loss: 2.7875 - mean_absolute_error: 3.2530 - lr: 4.4668e-07\n",
            "Epoch 35/100\n",
            "12/12 [==============================] - 1s 81ms/step - loss: 2.6919 - mean_absolute_error: 3.1563 - lr: 5.0119e-07\n",
            "Epoch 36/100\n",
            "12/12 [==============================] - 1s 86ms/step - loss: 2.6237 - mean_absolute_error: 3.0865 - lr: 5.6234e-07\n",
            "Epoch 37/100\n",
            "12/12 [==============================] - 1s 45ms/step - loss: 2.5613 - mean_absolute_error: 3.0232 - lr: 6.3096e-07\n",
            "Epoch 38/100\n",
            "12/12 [==============================] - 1s 46ms/step - loss: 2.5098 - mean_absolute_error: 2.9716 - lr: 7.0795e-07\n",
            "Epoch 39/100\n",
            "12/12 [==============================] - 1s 46ms/step - loss: 2.4609 - mean_absolute_error: 2.9221 - lr: 7.9433e-07\n",
            "Epoch 40/100\n",
            "12/12 [==============================] - 1s 55ms/step - loss: 2.4197 - mean_absolute_error: 2.8809 - lr: 8.9125e-07\n",
            "Epoch 41/100\n",
            "12/12 [==============================] - 1s 67ms/step - loss: 2.3763 - mean_absolute_error: 2.8370 - lr: 1.0000e-06\n",
            "Epoch 42/100\n",
            "12/12 [==============================] - 1s 81ms/step - loss: 2.3392 - mean_absolute_error: 2.7988 - lr: 1.1220e-06\n",
            "Epoch 43/100\n",
            "12/12 [==============================] - 1s 46ms/step - loss: 2.3021 - mean_absolute_error: 2.7607 - lr: 1.2589e-06\n",
            "Epoch 44/100\n",
            "12/12 [==============================] - 1s 44ms/step - loss: 2.2715 - mean_absolute_error: 2.7300 - lr: 1.4125e-06\n",
            "Epoch 45/100\n",
            "12/12 [==============================] - 1s 86ms/step - loss: 2.2420 - mean_absolute_error: 2.7005 - lr: 1.5849e-06\n",
            "Epoch 46/100\n",
            "12/12 [==============================] - 1s 46ms/step - loss: 2.2160 - mean_absolute_error: 2.6742 - lr: 1.7783e-06\n",
            "Epoch 47/100\n",
            "12/12 [==============================] - 1s 42ms/step - loss: 2.1871 - mean_absolute_error: 2.6452 - lr: 1.9953e-06\n",
            "Epoch 48/100\n",
            "12/12 [==============================] - 1s 44ms/step - loss: 2.1635 - mean_absolute_error: 2.6210 - lr: 2.2387e-06\n",
            "Epoch 49/100\n",
            "12/12 [==============================] - 1s 47ms/step - loss: 2.1328 - mean_absolute_error: 2.5895 - lr: 2.5119e-06\n",
            "Epoch 50/100\n",
            "12/12 [==============================] - 1s 45ms/step - loss: 2.1017 - mean_absolute_error: 2.5581 - lr: 2.8184e-06\n",
            "Epoch 51/100\n",
            "12/12 [==============================] - 1s 45ms/step - loss: 2.0727 - mean_absolute_error: 2.5287 - lr: 3.1623e-06\n",
            "Epoch 52/100\n",
            "12/12 [==============================] - 1s 43ms/step - loss: 2.0379 - mean_absolute_error: 2.4930 - lr: 3.5481e-06\n",
            "Epoch 53/100\n",
            "12/12 [==============================] - 1s 46ms/step - loss: 2.0089 - mean_absolute_error: 2.4635 - lr: 3.9811e-06\n",
            "Epoch 54/100\n",
            "12/12 [==============================] - 1s 44ms/step - loss: 1.9768 - mean_absolute_error: 2.4307 - lr: 4.4668e-06\n",
            "Epoch 55/100\n",
            "12/12 [==============================] - 1s 41ms/step - loss: 1.9518 - mean_absolute_error: 2.4054 - lr: 5.0119e-06\n",
            "Epoch 56/100\n",
            "12/12 [==============================] - 1s 47ms/step - loss: 1.9266 - mean_absolute_error: 2.3795 - lr: 5.6234e-06\n",
            "Epoch 57/100\n",
            "12/12 [==============================] - 1s 85ms/step - loss: 1.9046 - mean_absolute_error: 2.3571 - lr: 6.3096e-06\n",
            "Epoch 58/100\n",
            "12/12 [==============================] - 1s 53ms/step - loss: 1.8769 - mean_absolute_error: 2.3294 - lr: 7.0795e-06\n",
            "Epoch 59/100\n",
            "12/12 [==============================] - 1s 46ms/step - loss: 1.8645 - mean_absolute_error: 2.3162 - lr: 7.9433e-06\n",
            "Epoch 60/100\n",
            "12/12 [==============================] - 1s 43ms/step - loss: 1.8825 - mean_absolute_error: 2.3347 - lr: 8.9125e-06\n",
            "Epoch 61/100\n",
            "12/12 [==============================] - 1s 44ms/step - loss: 1.8640 - mean_absolute_error: 2.3170 - lr: 1.0000e-05\n",
            "Epoch 62/100\n",
            "12/12 [==============================] - 1s 48ms/step - loss: 2.1691 - mean_absolute_error: 2.6288 - lr: 1.1220e-05\n",
            "Epoch 63/100\n",
            "12/12 [==============================] - 1s 47ms/step - loss: 2.5040 - mean_absolute_error: 2.9714 - lr: 1.2589e-05\n",
            "Epoch 64/100\n",
            "12/12 [==============================] - 1s 42ms/step - loss: 2.5266 - mean_absolute_error: 2.9933 - lr: 1.4125e-05\n",
            "Epoch 65/100\n",
            "12/12 [==============================] - 1s 45ms/step - loss: 2.7505 - mean_absolute_error: 3.2223 - lr: 1.5849e-05\n",
            "Epoch 66/100\n",
            "12/12 [==============================] - 1s 45ms/step - loss: 3.0444 - mean_absolute_error: 3.5212 - lr: 1.7783e-05\n",
            "Epoch 67/100\n",
            "12/12 [==============================] - 1s 45ms/step - loss: 3.2434 - mean_absolute_error: 3.7228 - lr: 1.9953e-05\n",
            "Epoch 68/100\n",
            "12/12 [==============================] - 1s 44ms/step - loss: 3.4770 - mean_absolute_error: 3.9584 - lr: 2.2387e-05\n",
            "Epoch 69/100\n",
            "12/12 [==============================] - 1s 82ms/step - loss: 3.5276 - mean_absolute_error: 4.0090 - lr: 2.5119e-05\n",
            "Epoch 70/100\n",
            "12/12 [==============================] - 1s 92ms/step - loss: 3.2465 - mean_absolute_error: 3.7211 - lr: 2.8184e-05\n",
            "Epoch 71/100\n",
            "12/12 [==============================] - 1s 74ms/step - loss: 2.5853 - mean_absolute_error: 3.0502 - lr: 3.1623e-05\n",
            "Epoch 72/100\n",
            "12/12 [==============================] - 1s 49ms/step - loss: 4.6360 - mean_absolute_error: 5.1192 - lr: 3.5481e-05\n",
            "Epoch 73/100\n",
            "12/12 [==============================] - 1s 46ms/step - loss: 4.2858 - mean_absolute_error: 4.7648 - lr: 3.9811e-05\n",
            "Epoch 74/100\n",
            "12/12 [==============================] - 1s 46ms/step - loss: 3.9187 - mean_absolute_error: 4.3946 - lr: 4.4668e-05\n",
            "Epoch 75/100\n",
            "12/12 [==============================] - 1s 45ms/step - loss: 2.9633 - mean_absolute_error: 3.4316 - lr: 5.0119e-05\n",
            "Epoch 76/100\n",
            "12/12 [==============================] - 1s 47ms/step - loss: 2.4374 - mean_absolute_error: 2.9016 - lr: 5.6234e-05\n",
            "Epoch 77/100\n",
            "12/12 [==============================] - 1s 45ms/step - loss: 2.0222 - mean_absolute_error: 2.4793 - lr: 6.3096e-05\n",
            "Epoch 78/100\n",
            "12/12 [==============================] - 1s 46ms/step - loss: 2.0471 - mean_absolute_error: 2.5041 - lr: 7.0795e-05\n",
            "Epoch 79/100\n",
            "12/12 [==============================] - 1s 47ms/step - loss: 2.5548 - mean_absolute_error: 3.0221 - lr: 7.9433e-05\n",
            "Epoch 80/100\n",
            "12/12 [==============================] - 1s 46ms/step - loss: 3.0015 - mean_absolute_error: 3.4768 - lr: 8.9125e-05\n",
            "Epoch 81/100\n",
            "12/12 [==============================] - 1s 48ms/step - loss: 3.4492 - mean_absolute_error: 3.9308 - lr: 1.0000e-04\n",
            "Epoch 82/100\n",
            "12/12 [==============================] - 1s 90ms/step - loss: 4.0185 - mean_absolute_error: 4.5051 - lr: 1.1220e-04\n",
            "Epoch 83/100\n",
            "12/12 [==============================] - 1s 74ms/step - loss: 4.6963 - mean_absolute_error: 5.1870 - lr: 1.2589e-04\n",
            "Epoch 84/100\n",
            "12/12 [==============================] - 1s 45ms/step - loss: 4.8609 - mean_absolute_error: 5.3476 - lr: 1.4125e-04\n",
            "Epoch 85/100\n",
            "12/12 [==============================] - 1s 44ms/step - loss: 5.7506 - mean_absolute_error: 6.2350 - lr: 1.5849e-04\n",
            "Epoch 86/100\n",
            "12/12 [==============================] - 1s 48ms/step - loss: 20.0967 - mean_absolute_error: 20.5910 - lr: 1.7783e-04\n",
            "Epoch 87/100\n",
            "12/12 [==============================] - 1s 44ms/step - loss: 52.3326 - mean_absolute_error: 52.8310 - lr: 1.9953e-04\n",
            "Epoch 88/100\n",
            "12/12 [==============================] - 1s 44ms/step - loss: 62.3678 - mean_absolute_error: 62.8677 - lr: 2.2387e-04\n",
            "Epoch 89/100\n",
            "12/12 [==============================] - 1s 45ms/step - loss: 67.2511 - mean_absolute_error: 67.7511 - lr: 2.5119e-04\n",
            "Epoch 90/100\n",
            "12/12 [==============================] - 1s 45ms/step - loss: 39.4446 - mean_absolute_error: 39.9424 - lr: 2.8184e-04\n",
            "Epoch 91/100\n",
            "12/12 [==============================] - 1s 45ms/step - loss: 27.0646 - mean_absolute_error: 27.5640 - lr: 3.1623e-04\n",
            "Epoch 92/100\n",
            "12/12 [==============================] - 1s 49ms/step - loss: 34.3984 - mean_absolute_error: 34.8959 - lr: 3.5481e-04\n",
            "Epoch 93/100\n",
            "12/12 [==============================] - 1s 47ms/step - loss: 55.2493 - mean_absolute_error: 55.7463 - lr: 3.9811e-04\n",
            "Epoch 94/100\n",
            "12/12 [==============================] - 1s 85ms/step - loss: 32.6000 - mean_absolute_error: 33.0976 - lr: 4.4668e-04\n",
            "Epoch 95/100\n",
            "12/12 [==============================] - 1s 46ms/step - loss: 61.9266 - mean_absolute_error: 62.4214 - lr: 5.0119e-04\n",
            "Epoch 96/100\n",
            "12/12 [==============================] - 1s 48ms/step - loss: 135.0183 - mean_absolute_error: 135.5183 - lr: 5.6234e-04\n",
            "Epoch 97/100\n",
            "12/12 [==============================] - 1s 45ms/step - loss: 44.4480 - mean_absolute_error: 44.9453 - lr: 6.3096e-04\n",
            "Epoch 98/100\n",
            "12/12 [==============================] - 1s 50ms/step - loss: 88.9698 - mean_absolute_error: 89.4684 - lr: 7.0795e-04\n",
            "Epoch 99/100\n",
            "12/12 [==============================] - 1s 45ms/step - loss: 128.2268 - mean_absolute_error: 128.7266 - lr: 7.9433e-04\n",
            "Epoch 100/100\n",
            "12/12 [==============================] - 1s 46ms/step - loss: 117.6552 - mean_absolute_error: 118.1549 - lr: 8.9125e-04\n"
          ]
        }
      ]
    },
    {
      "cell_type": "markdown",
      "metadata": {
        "collapsed": false,
        "id": "wryNEsg3OQ-Q"
      },
      "source": [
        "# 6. Actualización del learning rate según los resultados obtenidos del primer entrenamiento de la red neuronal"
      ]
    },
    {
      "cell_type": "markdown",
      "metadata": {
        "collapsed": false,
        "id": "lEtS47TWOd8J"
      },
      "source": [
        "Después del entrenamiento de la red neuronal se ve que learning rate resultante es de 1e-5. Se visualizará gráficamente para entender el motivo por el que se ha usado ese valor. En la gráfica se puede ver cómo el learning rate con el que menos loss hay es 1e-5, y por ese motivo, se debe volver a entrenar la red neuronal con dicho learning rate."
      ]
    },
    {
      "cell_type": "code",
      "metadata": {
        "id": "KpydHm4hYZap",
        "colab": {
          "base_uri": "https://localhost:8080/",
          "height": 458
        },
        "outputId": "55010723-c1bd-47f9-9cc3-ea02251dddba"
      },
      "source": [
        "plt.semilogx(history.history[\"lr\"], history.history[\"loss\"])\n",
        "plt.axis([1e-8, 1e-4, 0, 60])"
      ],
      "execution_count": 25,
      "outputs": [
        {
          "output_type": "execute_result",
          "data": {
            "text/plain": [
              "(1e-08, 0.0001, 0.0, 60.0)"
            ]
          },
          "metadata": {},
          "execution_count": 25
        },
        {
          "output_type": "display_data",
          "data": {
            "text/plain": [
              "<Figure size 640x480 with 1 Axes>"
            ],
            "image/png": "[encoded data removed]"
          },
          "metadata": {}
        }
      ]
    },
    {
      "cell_type": "markdown",
      "metadata": {
        "collapsed": false,
        "id": "iJCCYtWUOo3R"
      },
      "source": [
        "Se vuelve a inicializar la sesión de entrenamiento y la variable train_set:"
      ]
    },
    {
      "cell_type": "code",
      "metadata": {
        "id": "zRczRPRJO2hr"
      },
      "source": [
        "tf.keras.backend.clear_session()\n",
        "tf.random.set_seed(51)\n",
        "np.random.seed(51)\n",
        "train_set = windowed_dataset(x_train, window_size=60, batch_size=100, shuffle_buffer=shuffle_buffer_size)"
      ],
      "execution_count": 26,
      "outputs": []
    },
    {
      "cell_type": "markdown",
      "metadata": {
        "collapsed": false,
        "id": "WhM4opUcO9W0"
      },
      "source": [
        "**Ejercicio 6 (0.5 puntos)**: Para crear el nuevo modelo, reutiliza la red neuronal diseñada en el ejercicio 4, pero esta vez utilizando 60 filtros en la capa de convolución."
      ]
    },
    {
      "cell_type": "code",
      "metadata": {
        "id": "eGXpMjoxO4eK"
      },
      "source": [
        "## tu código para la red neuronal del ejercicio 6 aquí\n",
        "model = Sequential([\n",
        "    Conv1D(filters=60, kernel_size=5, strides=1, padding='causal', activation='relu', input_shape=(None, 1)),\n",
        "    LSTM(64, return_sequences=True),\n",
        "    LSTM(64, return_sequences=True),\n",
        "    Dense(30, activation='relu'),\n",
        "    Dense(10, activation='relu'),\n",
        "    Dense(1),\n",
        "    Lambda(lambda x: x * 400)\n",
        "])\n"
      ],
      "execution_count": 27,
      "outputs": []
    },
    {
      "cell_type": "markdown",
      "metadata": {
        "collapsed": false,
        "id": "jd5wr58SPaet"
      },
      "source": [
        "**Ejercicio 7 (0.5 puntos)**: Se debe volver a compilar la red neuronal de manera análoga a la del ejercicio 5, pero esta vez utilizar un learning rate obtenido de la función callback."
      ]
    },
    {
      "cell_type": "code",
      "metadata": {
        "id": "Q0cVmEu5O7UZ"
      },
      "source": [
        "## tu código para compilar la red neuronal para el ejercicio 7 aquí\n",
        "optimizer =SGD(learning_rate=1e-05, momentum=0.9)\n",
        "model.compile(optimizer=optimizer, loss=Huber(), metrics=[MeanAbsoluteError()])"
      ],
      "execution_count": 28,
      "outputs": []
    },
    {
      "cell_type": "code",
      "metadata": {
        "id": "CYrg5kSzYb5i",
        "colab": {
          "base_uri": "https://localhost:8080/"
        },
        "outputId": "e63dcdb3-9c15-44af-a131-b9512789a1b6"
      },
      "source": [
        "history = model.fit(train_set,epochs=150)"
      ],
      "execution_count": 29,
      "outputs": [
        {
          "output_type": "stream",
          "name": "stdout",
          "text": [
            "Epoch 1/150\n",
            "29/29 [==============================] - 5s 24ms/step - loss: 15.1706 - mean_absolute_error: 15.6436\n",
            "Epoch 2/150\n",
            "29/29 [==============================] - 1s 26ms/step - loss: 1.9982 - mean_absolute_error: 2.4528\n",
            "Epoch 3/150\n",
            "29/29 [==============================] - 1s 25ms/step - loss: 1.8766 - mean_absolute_error: 2.3288\n",
            "Epoch 4/150\n",
            "29/29 [==============================] - 1s 26ms/step - loss: 1.8230 - mean_absolute_error: 2.2741\n",
            "Epoch 5/150\n",
            "29/29 [==============================] - 2s 46ms/step - loss: 1.7855 - mean_absolute_error: 2.2357\n",
            "Epoch 6/150\n",
            "29/29 [==============================] - 1s 26ms/step - loss: 1.7549 - mean_absolute_error: 2.2045\n",
            "Epoch 7/150\n",
            "29/29 [==============================] - 1s 26ms/step - loss: 1.7325 - mean_absolute_error: 2.1818\n",
            "Epoch 8/150\n",
            "29/29 [==============================] - 1s 24ms/step - loss: 1.7156 - mean_absolute_error: 2.1647\n",
            "Epoch 9/150\n",
            "29/29 [==============================] - 1s 27ms/step - loss: 1.7013 - mean_absolute_error: 2.1502\n",
            "Epoch 10/150\n",
            "29/29 [==============================] - 1s 26ms/step - loss: 1.6880 - mean_absolute_error: 2.1370\n",
            "Epoch 11/150\n",
            "29/29 [==============================] - 1s 25ms/step - loss: 1.6825 - mean_absolute_error: 2.1311\n",
            "Epoch 12/150\n",
            "29/29 [==============================] - 1s 26ms/step - loss: 1.6700 - mean_absolute_error: 2.1189\n",
            "Epoch 13/150\n",
            "29/29 [==============================] - 1s 25ms/step - loss: 1.6600 - mean_absolute_error: 2.1088\n",
            "Epoch 14/150\n",
            "29/29 [==============================] - 1s 26ms/step - loss: 1.6549 - mean_absolute_error: 2.1034\n",
            "Epoch 15/150\n",
            "29/29 [==============================] - 1s 39ms/step - loss: 1.6493 - mean_absolute_error: 2.0976\n",
            "Epoch 16/150\n",
            "29/29 [==============================] - 1s 26ms/step - loss: 1.6408 - mean_absolute_error: 2.0889\n",
            "Epoch 17/150\n",
            "29/29 [==============================] - 1s 25ms/step - loss: 1.6364 - mean_absolute_error: 2.0842\n",
            "Epoch 18/150\n",
            "29/29 [==============================] - 1s 26ms/step - loss: 1.6292 - mean_absolute_error: 2.0769\n",
            "Epoch 19/150\n",
            "29/29 [==============================] - 1s 26ms/step - loss: 1.6248 - mean_absolute_error: 2.0723\n",
            "Epoch 20/150\n",
            "29/29 [==============================] - 1s 27ms/step - loss: 1.6206 - mean_absolute_error: 2.0681\n",
            "Epoch 21/150\n",
            "29/29 [==============================] - 1s 27ms/step - loss: 1.6151 - mean_absolute_error: 2.0622\n",
            "Epoch 22/150\n",
            "29/29 [==============================] - 1s 25ms/step - loss: 1.6117 - mean_absolute_error: 2.0588\n",
            "Epoch 23/150\n",
            "29/29 [==============================] - 1s 25ms/step - loss: 1.6086 - mean_absolute_error: 2.0555\n",
            "Epoch 24/150\n",
            "29/29 [==============================] - 1s 38ms/step - loss: 1.6034 - mean_absolute_error: 2.0500\n",
            "Epoch 25/150\n",
            "29/29 [==============================] - 2s 50ms/step - loss: 1.6008 - mean_absolute_error: 2.0473\n",
            "Epoch 26/150\n",
            "29/29 [==============================] - 1s 27ms/step - loss: 1.5957 - mean_absolute_error: 2.0422\n",
            "Epoch 27/150\n",
            "29/29 [==============================] - 1s 25ms/step - loss: 1.5935 - mean_absolute_error: 2.0395\n",
            "Epoch 28/150\n",
            "29/29 [==============================] - 1s 26ms/step - loss: 1.5909 - mean_absolute_error: 2.0370\n",
            "Epoch 29/150\n",
            "29/29 [==============================] - 1s 26ms/step - loss: 1.5851 - mean_absolute_error: 2.0311\n",
            "Epoch 30/150\n",
            "29/29 [==============================] - 1s 26ms/step - loss: 1.5826 - mean_absolute_error: 2.0283\n",
            "Epoch 31/150\n",
            "29/29 [==============================] - 1s 26ms/step - loss: 1.5793 - mean_absolute_error: 2.0247\n",
            "Epoch 32/150\n",
            "29/29 [==============================] - 1s 26ms/step - loss: 1.5765 - mean_absolute_error: 2.0220\n",
            "Epoch 33/150\n",
            "29/29 [==============================] - 1s 27ms/step - loss: 1.5733 - mean_absolute_error: 2.0187\n",
            "Epoch 34/150\n",
            "29/29 [==============================] - 1s 27ms/step - loss: 1.5689 - mean_absolute_error: 2.0141\n",
            "Epoch 35/150\n",
            "29/29 [==============================] - 2s 49ms/step - loss: 1.5687 - mean_absolute_error: 2.0137\n",
            "Epoch 36/150\n",
            "29/29 [==============================] - 1s 27ms/step - loss: 1.5639 - mean_absolute_error: 2.0088\n",
            "Epoch 37/150\n",
            "29/29 [==============================] - 1s 26ms/step - loss: 1.5663 - mean_absolute_error: 2.0110\n",
            "Epoch 38/150\n",
            "29/29 [==============================] - 1s 25ms/step - loss: 1.5612 - mean_absolute_error: 2.0058\n",
            "Epoch 39/150\n",
            "29/29 [==============================] - 1s 27ms/step - loss: 1.5604 - mean_absolute_error: 2.0048\n",
            "Epoch 40/150\n",
            "29/29 [==============================] - 1s 26ms/step - loss: 1.5544 - mean_absolute_error: 1.9986\n",
            "Epoch 41/150\n",
            "29/29 [==============================] - 1s 25ms/step - loss: 1.5518 - mean_absolute_error: 1.9960\n",
            "Epoch 42/150\n",
            "29/29 [==============================] - 1s 26ms/step - loss: 1.5500 - mean_absolute_error: 1.9943\n",
            "Epoch 43/150\n",
            "29/29 [==============================] - 1s 25ms/step - loss: 1.5483 - mean_absolute_error: 1.9922\n",
            "Epoch 44/150\n",
            "29/29 [==============================] - 2s 46ms/step - loss: 1.5466 - mean_absolute_error: 1.9905\n",
            "Epoch 45/150\n",
            "29/29 [==============================] - 1s 27ms/step - loss: 1.5452 - mean_absolute_error: 1.9887\n",
            "Epoch 46/150\n",
            "29/29 [==============================] - 1s 24ms/step - loss: 1.5423 - mean_absolute_error: 1.9860\n",
            "Epoch 47/150\n",
            "29/29 [==============================] - 1s 27ms/step - loss: 1.5405 - mean_absolute_error: 1.9839\n",
            "Epoch 48/150\n",
            "29/29 [==============================] - 1s 27ms/step - loss: 1.5397 - mean_absolute_error: 1.9829\n",
            "Epoch 49/150\n",
            "29/29 [==============================] - 1s 26ms/step - loss: 1.5414 - mean_absolute_error: 1.9848\n",
            "Epoch 50/150\n",
            "29/29 [==============================] - 1s 25ms/step - loss: 1.5389 - mean_absolute_error: 1.9822\n",
            "Epoch 51/150\n",
            "29/29 [==============================] - 1s 25ms/step - loss: 1.5361 - mean_absolute_error: 1.9789\n",
            "Epoch 52/150\n",
            "29/29 [==============================] - 1s 26ms/step - loss: 1.5358 - mean_absolute_error: 1.9790\n",
            "Epoch 53/150\n",
            "29/29 [==============================] - 1s 25ms/step - loss: 1.5322 - mean_absolute_error: 1.9747\n",
            "Epoch 54/150\n",
            "29/29 [==============================] - 1s 29ms/step - loss: 1.5304 - mean_absolute_error: 1.9734\n",
            "Epoch 55/150\n",
            "29/29 [==============================] - 2s 47ms/step - loss: 1.5284 - mean_absolute_error: 1.9710\n",
            "Epoch 56/150\n",
            "29/29 [==============================] - 1s 26ms/step - loss: 1.5336 - mean_absolute_error: 1.9762\n",
            "Epoch 57/150\n",
            "29/29 [==============================] - 1s 26ms/step - loss: 1.5271 - mean_absolute_error: 1.9696\n",
            "Epoch 58/150\n",
            "29/29 [==============================] - 1s 25ms/step - loss: 1.5236 - mean_absolute_error: 1.9659\n",
            "Epoch 59/150\n",
            "29/29 [==============================] - 1s 26ms/step - loss: 1.5216 - mean_absolute_error: 1.9637\n",
            "Epoch 60/150\n",
            "29/29 [==============================] - 1s 27ms/step - loss: 1.5202 - mean_absolute_error: 1.9620\n",
            "Epoch 61/150\n",
            "29/29 [==============================] - 1s 26ms/step - loss: 1.5192 - mean_absolute_error: 1.9610\n",
            "Epoch 62/150\n",
            "29/29 [==============================] - 1s 26ms/step - loss: 1.5183 - mean_absolute_error: 1.9599\n",
            "Epoch 63/150\n",
            "29/29 [==============================] - 1s 27ms/step - loss: 1.5185 - mean_absolute_error: 1.9605\n",
            "Epoch 64/150\n",
            "29/29 [==============================] - 1s 35ms/step - loss: 1.5159 - mean_absolute_error: 1.9577\n",
            "Epoch 65/150\n",
            "29/29 [==============================] - 2s 55ms/step - loss: 1.5143 - mean_absolute_error: 1.9559\n",
            "Epoch 66/150\n",
            "29/29 [==============================] - 2s 54ms/step - loss: 1.5130 - mean_absolute_error: 1.9546\n",
            "Epoch 67/150\n",
            "29/29 [==============================] - 2s 47ms/step - loss: 1.5177 - mean_absolute_error: 1.9597\n",
            "Epoch 68/150\n",
            "29/29 [==============================] - 2s 39ms/step - loss: 1.5138 - mean_absolute_error: 1.9556\n",
            "Epoch 69/150\n",
            "29/29 [==============================] - 1s 27ms/step - loss: 1.5168 - mean_absolute_error: 1.9592\n",
            "Epoch 70/150\n",
            "29/29 [==============================] - 1s 27ms/step - loss: 1.5130 - mean_absolute_error: 1.9547\n",
            "Epoch 71/150\n",
            "29/29 [==============================] - 1s 26ms/step - loss: 1.5084 - mean_absolute_error: 1.9499\n",
            "Epoch 72/150\n",
            "29/29 [==============================] - 1s 26ms/step - loss: 1.5096 - mean_absolute_error: 1.9514\n",
            "Epoch 73/150\n",
            "29/29 [==============================] - 1s 25ms/step - loss: 1.5102 - mean_absolute_error: 1.9521\n",
            "Epoch 74/150\n",
            "29/29 [==============================] - 1s 27ms/step - loss: 1.5104 - mean_absolute_error: 1.9528\n",
            "Epoch 75/150\n",
            "29/29 [==============================] - 2s 48ms/step - loss: 1.5095 - mean_absolute_error: 1.9513\n",
            "Epoch 76/150\n",
            "29/29 [==============================] - 1s 35ms/step - loss: 1.5074 - mean_absolute_error: 1.9494\n",
            "Epoch 77/150\n",
            "29/29 [==============================] - 1s 27ms/step - loss: 1.5070 - mean_absolute_error: 1.9490\n",
            "Epoch 78/150\n",
            "29/29 [==============================] - 1s 26ms/step - loss: 1.5024 - mean_absolute_error: 1.9441\n",
            "Epoch 79/150\n",
            "29/29 [==============================] - 1s 26ms/step - loss: 1.5010 - mean_absolute_error: 1.9426\n",
            "Epoch 80/150\n",
            "29/29 [==============================] - 1s 25ms/step - loss: 1.5019 - mean_absolute_error: 1.9438\n",
            "Epoch 81/150\n",
            "29/29 [==============================] - 1s 26ms/step - loss: 1.5004 - mean_absolute_error: 1.9422\n",
            "Epoch 82/150\n",
            "29/29 [==============================] - 1s 27ms/step - loss: 1.5035 - mean_absolute_error: 1.9452\n",
            "Epoch 83/150\n",
            "29/29 [==============================] - 1s 26ms/step - loss: 1.4994 - mean_absolute_error: 1.9412\n",
            "Epoch 84/150\n",
            "29/29 [==============================] - 1s 27ms/step - loss: 1.4982 - mean_absolute_error: 1.9401\n",
            "Epoch 85/150\n",
            "29/29 [==============================] - 1s 44ms/step - loss: 1.4965 - mean_absolute_error: 1.9383\n",
            "Epoch 86/150\n",
            "29/29 [==============================] - 2s 48ms/step - loss: 1.4960 - mean_absolute_error: 1.9378\n",
            "Epoch 87/150\n",
            "29/29 [==============================] - 1s 27ms/step - loss: 1.4954 - mean_absolute_error: 1.9371\n",
            "Epoch 88/150\n",
            "29/29 [==============================] - 1s 26ms/step - loss: 1.4947 - mean_absolute_error: 1.9365\n",
            "Epoch 89/150\n",
            "29/29 [==============================] - 1s 26ms/step - loss: 1.4946 - mean_absolute_error: 1.9365\n",
            "Epoch 90/150\n",
            "29/29 [==============================] - 1s 27ms/step - loss: 1.4934 - mean_absolute_error: 1.9354\n",
            "Epoch 91/150\n",
            "29/29 [==============================] - 1s 25ms/step - loss: 1.4928 - mean_absolute_error: 1.9346\n",
            "Epoch 92/150\n",
            "29/29 [==============================] - 1s 26ms/step - loss: 1.4935 - mean_absolute_error: 1.9353\n",
            "Epoch 93/150\n",
            "29/29 [==============================] - 1s 26ms/step - loss: 1.4919 - mean_absolute_error: 1.9337\n",
            "Epoch 94/150\n",
            "29/29 [==============================] - 1s 26ms/step - loss: 1.4913 - mean_absolute_error: 1.9333\n",
            "Epoch 95/150\n",
            "29/29 [==============================] - 1s 37ms/step - loss: 1.4965 - mean_absolute_error: 1.9383\n",
            "Epoch 96/150\n",
            "29/29 [==============================] - 2s 45ms/step - loss: 1.4897 - mean_absolute_error: 1.9318\n",
            "Epoch 97/150\n",
            "29/29 [==============================] - 1s 27ms/step - loss: 1.4901 - mean_absolute_error: 1.9320\n",
            "Epoch 98/150\n",
            "29/29 [==============================] - 1s 25ms/step - loss: 1.4898 - mean_absolute_error: 1.9316\n",
            "Epoch 99/150\n",
            "29/29 [==============================] - 1s 25ms/step - loss: 1.4887 - mean_absolute_error: 1.9306\n",
            "Epoch 100/150\n",
            "29/29 [==============================] - 1s 26ms/step - loss: 1.4913 - mean_absolute_error: 1.9337\n",
            "Epoch 101/150\n",
            "29/29 [==============================] - 1s 27ms/step - loss: 1.4907 - mean_absolute_error: 1.9331\n",
            "Epoch 102/150\n",
            "29/29 [==============================] - 1s 26ms/step - loss: 1.4873 - mean_absolute_error: 1.9293\n",
            "Epoch 103/150\n",
            "29/29 [==============================] - 1s 26ms/step - loss: 1.4878 - mean_absolute_error: 1.9297\n",
            "Epoch 104/150\n",
            "29/29 [==============================] - 1s 27ms/step - loss: 1.4866 - mean_absolute_error: 1.9288\n",
            "Epoch 105/150\n",
            "29/29 [==============================] - 2s 50ms/step - loss: 1.4877 - mean_absolute_error: 1.9296\n",
            "Epoch 106/150\n",
            "29/29 [==============================] - 1s 27ms/step - loss: 1.4874 - mean_absolute_error: 1.9296\n",
            "Epoch 107/150\n",
            "29/29 [==============================] - 1s 25ms/step - loss: 1.4876 - mean_absolute_error: 1.9295\n",
            "Epoch 108/150\n",
            "29/29 [==============================] - 1s 26ms/step - loss: 1.4860 - mean_absolute_error: 1.9278\n",
            "Epoch 109/150\n",
            "29/29 [==============================] - 1s 28ms/step - loss: 1.4846 - mean_absolute_error: 1.9269\n",
            "Epoch 110/150\n",
            "29/29 [==============================] - 1s 25ms/step - loss: 1.4838 - mean_absolute_error: 1.9257\n",
            "Epoch 111/150\n",
            "29/29 [==============================] - 1s 27ms/step - loss: 1.4851 - mean_absolute_error: 1.9270\n",
            "Epoch 112/150\n",
            "29/29 [==============================] - 1s 27ms/step - loss: 1.4856 - mean_absolute_error: 1.9279\n",
            "Epoch 113/150\n",
            "29/29 [==============================] - 1s 25ms/step - loss: 1.4844 - mean_absolute_error: 1.9261\n",
            "Epoch 114/150\n",
            "29/29 [==============================] - 1s 25ms/step - loss: 1.4841 - mean_absolute_error: 1.9260\n",
            "Epoch 115/150\n",
            "29/29 [==============================] - 2s 46ms/step - loss: 1.4854 - mean_absolute_error: 1.9273\n",
            "Epoch 116/150\n",
            "29/29 [==============================] - 1s 27ms/step - loss: 1.4869 - mean_absolute_error: 1.9291\n",
            "Epoch 117/150\n",
            "29/29 [==============================] - 1s 26ms/step - loss: 1.4816 - mean_absolute_error: 1.9235\n",
            "Epoch 118/150\n",
            "29/29 [==============================] - 1s 26ms/step - loss: 1.4830 - mean_absolute_error: 1.9246\n",
            "Epoch 119/150\n",
            "29/29 [==============================] - 1s 25ms/step - loss: 1.4816 - mean_absolute_error: 1.9233\n",
            "Epoch 120/150\n",
            "29/29 [==============================] - 1s 25ms/step - loss: 1.4833 - mean_absolute_error: 1.9250\n",
            "Epoch 121/150\n",
            "29/29 [==============================] - 1s 27ms/step - loss: 1.4885 - mean_absolute_error: 1.9305\n",
            "Epoch 122/150\n",
            "29/29 [==============================] - 1s 26ms/step - loss: 1.4816 - mean_absolute_error: 1.9232\n",
            "Epoch 123/150\n",
            "29/29 [==============================] - 1s 26ms/step - loss: 1.4807 - mean_absolute_error: 1.9224\n",
            "Epoch 124/150\n",
            "29/29 [==============================] - 1s 30ms/step - loss: 1.4801 - mean_absolute_error: 1.9217\n",
            "Epoch 125/150\n",
            "29/29 [==============================] - 2s 47ms/step - loss: 1.4805 - mean_absolute_error: 1.9221\n",
            "Epoch 126/150\n",
            "29/29 [==============================] - 1s 38ms/step - loss: 1.4816 - mean_absolute_error: 1.9233\n",
            "Epoch 127/150\n",
            "29/29 [==============================] - 1s 27ms/step - loss: 1.4798 - mean_absolute_error: 1.9214\n",
            "Epoch 128/150\n",
            "29/29 [==============================] - 1s 27ms/step - loss: 1.4804 - mean_absolute_error: 1.9220\n",
            "Epoch 129/150\n",
            "29/29 [==============================] - 1s 27ms/step - loss: 1.4791 - mean_absolute_error: 1.9207\n",
            "Epoch 130/150\n",
            "29/29 [==============================] - 1s 27ms/step - loss: 1.4812 - mean_absolute_error: 1.9232\n",
            "Epoch 131/150\n",
            "29/29 [==============================] - 1s 26ms/step - loss: 1.4800 - mean_absolute_error: 1.9217\n",
            "Epoch 132/150\n",
            "29/29 [==============================] - 1s 26ms/step - loss: 1.4792 - mean_absolute_error: 1.9210\n",
            "Epoch 133/150\n",
            "29/29 [==============================] - 1s 27ms/step - loss: 1.4791 - mean_absolute_error: 1.9206\n",
            "Epoch 134/150\n",
            "29/29 [==============================] - 1s 39ms/step - loss: 1.4801 - mean_absolute_error: 1.9217\n",
            "Epoch 135/150\n",
            "29/29 [==============================] - 1s 27ms/step - loss: 1.4782 - mean_absolute_error: 1.9196\n",
            "Epoch 136/150\n",
            "29/29 [==============================] - 1s 27ms/step - loss: 1.4786 - mean_absolute_error: 1.9202\n",
            "Epoch 137/150\n",
            "29/29 [==============================] - 1s 26ms/step - loss: 1.4804 - mean_absolute_error: 1.9223\n",
            "Epoch 138/150\n",
            "29/29 [==============================] - 1s 26ms/step - loss: 1.4800 - mean_absolute_error: 1.9220\n",
            "Epoch 139/150\n",
            "29/29 [==============================] - 1s 28ms/step - loss: 1.4768 - mean_absolute_error: 1.9181\n",
            "Epoch 140/150\n",
            "29/29 [==============================] - 1s 26ms/step - loss: 1.4763 - mean_absolute_error: 1.9176\n",
            "Epoch 141/150\n",
            "29/29 [==============================] - 1s 27ms/step - loss: 1.4763 - mean_absolute_error: 1.9176\n",
            "Epoch 142/150\n",
            "29/29 [==============================] - 1s 27ms/step - loss: 1.4765 - mean_absolute_error: 1.9179\n",
            "Epoch 143/150\n",
            "29/29 [==============================] - 1s 26ms/step - loss: 1.4788 - mean_absolute_error: 1.9204\n",
            "Epoch 144/150\n",
            "29/29 [==============================] - 2s 48ms/step - loss: 1.4797 - mean_absolute_error: 1.9211\n",
            "Epoch 145/150\n",
            "29/29 [==============================] - 1s 26ms/step - loss: 1.4770 - mean_absolute_error: 1.9183\n",
            "Epoch 146/150\n",
            "29/29 [==============================] - 1s 25ms/step - loss: 1.4773 - mean_absolute_error: 1.9190\n",
            "Epoch 147/150\n",
            "29/29 [==============================] - 1s 25ms/step - loss: 1.4783 - mean_absolute_error: 1.9196\n",
            "Epoch 148/150\n",
            "29/29 [==============================] - 1s 27ms/step - loss: 1.4771 - mean_absolute_error: 1.9187\n",
            "Epoch 149/150\n",
            "29/29 [==============================] - 1s 26ms/step - loss: 1.4779 - mean_absolute_error: 1.9193\n",
            "Epoch 150/150\n",
            "29/29 [==============================] - 1s 27ms/step - loss: 1.4754 - mean_absolute_error: 1.9166\n"
          ]
        }
      ]
    },
    {
      "cell_type": "markdown",
      "metadata": {
        "collapsed": false,
        "id": "dE59CkauRD_o"
      },
      "source": [
        "# 7. Predicción de los siguientes valores de la serie temporal"
      ]
    },
    {
      "cell_type": "markdown",
      "metadata": {
        "collapsed": false,
        "id": "ati5x7OfReWH"
      },
      "source": [
        "Para concluir la actividad, se usa el método model_forecast que se ha diseñado utilizando el método de la ventana temporal para hacer el nuevo metodo rnn_forecast con el cual se calcularán los nuevos valores de la serie temporal. Posteriormente, se pinta una gráfica para ver esos resultados y comprobar de forma visual que son correctos. Además, se dan los resultados de esas predicciones en forma númerica, de esta forma, este modelo diseñado en esta actividad podría ser el input de un nuevo algoritmo si fuera necesario."
      ]
    },
    {
      "cell_type": "code",
      "metadata": {
        "id": "RWB79gRyYdvB",
        "colab": {
          "base_uri": "https://localhost:8080/"
        },
        "outputId": "702ffb43-e7a3-4ed1-bbb3-8f8f2c6e6878"
      },
      "source": [
        "rnn_forecast = model_forecast(model, series[..., np.newaxis], window_size)\n",
        "rnn_forecast = rnn_forecast[split_time - window_size:-1, -1, 0]"
      ],
      "execution_count": 38,
      "outputs": [
        {
          "output_type": "stream",
          "name": "stdout",
          "text": [
            "114/114 [==============================] - 1s 9ms/step\n"
          ]
        }
      ]
    },
    {
      "cell_type": "code",
      "source": [
        "len(rnn_forecast)"
      ],
      "metadata": {
        "colab": {
          "base_uri": "https://localhost:8080/"
        },
        "id": "S33777du8CCU",
        "outputId": "d0d9081d-1233-4e89-b538-d28f464e36ee"
      },
      "execution_count": 39,
      "outputs": [
        {
          "output_type": "execute_result",
          "data": {
            "text/plain": [
              "729"
            ]
          },
          "metadata": {},
          "execution_count": 39
        }
      ]
    },
    {
      "cell_type": "code",
      "metadata": {
        "id": "OrMdV-SnYiCG",
        "colab": {
          "base_uri": "https://localhost:8080/",
          "height": 542
        },
        "outputId": "c49777e5-cb73-468e-a42a-878008b20b4a"
      },
      "source": [
        "plt.figure(figsize=(10, 6))\n",
        "plot_series(time_valid, x_valid)\n",
        "plot_series(time_valid, rnn_forecast)"
      ],
      "execution_count": 40,
      "outputs": [
        {
          "output_type": "display_data",
          "data": {
            "text/plain": [
              "<Figure size 1000x600 with 1 Axes>"
            ],
            "image/png": "[encoded data removed]"
          },
          "metadata": {}
        }
      ]
    },
    {
      "cell_type": "code",
      "metadata": {
        "id": "bpa88mPVYj27",
        "colab": {
          "base_uri": "https://localhost:8080/"
        },
        "outputId": "0367006e-c312-45fe-aa75-4979bf797fc5"
      },
      "source": [
        "tf.keras.metrics.mean_absolute_error(x_valid, rnn_forecast).numpy()"
      ],
      "execution_count": 41,
      "outputs": [
        {
          "output_type": "execute_result",
          "data": {
            "text/plain": [
              "1.7506907"
            ]
          },
          "metadata": {},
          "execution_count": 41
        }
      ]
    },
    {
      "cell_type": "code",
      "metadata": {
        "id": "r4VPNDrEYmEA",
        "colab": {
          "base_uri": "https://localhost:8080/"
        },
        "outputId": "f3785e25-74b3-4e98-9ba3-4d8b48e39185"
      },
      "source": [
        "print(rnn_forecast)"
      ],
      "execution_count": 42,
      "outputs": [
        {
          "output_type": "stream",
          "name": "stdout",
          "text": [
            "[14.392795  16.055082  16.361343  15.709579  13.055616  11.880144\n",
            " 13.649279  15.020352  14.829991  13.654235  13.537651  14.4000025\n",
            " 13.248357  14.077434  15.908601  16.343037  15.075481  14.25226\n",
            " 14.110355  15.853864  14.806859  15.112344  13.797183  13.751303\n",
            " 15.346996  15.462679  15.552545  17.299858  17.467937  15.833876\n",
            " 16.297066  16.126179  15.027243  16.396172  15.942796  14.996542\n",
            " 14.541873  16.384865  16.822216  15.824178  15.547523  16.158955\n",
            " 15.673956  16.85493   17.110014  17.539017  17.759787  17.975529\n",
            " 18.598236  15.803859  15.893501  16.729643  15.316335  14.620143\n",
            " 16.414217  16.699686  14.049859  15.963495  17.210451  17.519178\n",
            " 18.251307  17.45626   17.940739  18.563246  17.457952  18.134378\n",
            " 18.822664  19.06977   17.472012  17.583805  17.613308  14.277348\n",
            " 16.136438  15.825704  15.316765  13.762683  13.997936  15.210505\n",
            " 15.793626  15.760618  15.847419  16.043701  14.513451  14.511379\n",
            " 11.955393  12.008706  13.315511  11.99408   11.521317  13.072379\n",
            " 13.086958  13.832895  13.610169  13.895367  16.476217  12.73987\n",
            " 14.365549  13.147561  14.09999   14.065053  14.813049  14.148519\n",
            " 14.265134  13.791566  10.928313  12.885806  12.318711  12.532288\n",
            " 10.733803  10.7903385 11.073465  11.052934  10.861406   9.9757395\n",
            " 11.472234  11.786872  12.646026  13.594577  13.072149  12.869653\n",
            " 13.823403  14.090985  12.49901   14.25119   11.723135  11.696285\n",
            " 12.157336  11.5829115 11.007573  12.560204  12.902758  12.276721\n",
            " 12.243954  12.117351  11.083877  10.243121  10.062578  11.916665\n",
            " 11.552288   9.173365   8.048707  11.277551  10.134892   9.931644\n",
            " 11.07276    9.856153  10.648494  10.771658  11.596349  12.185704\n",
            "  8.410684   5.6846156  4.741067   4.945436   6.8708262  7.919482\n",
            "  7.708245   8.339418   8.960884   7.6801977  7.519      8.405934\n",
            "  8.533093   7.264029   9.204597   9.532024   9.177249  10.271748\n",
            "  9.697871   9.756979   8.716776   7.746712   6.721339   6.4095125\n",
            "  6.8061485  6.454995   5.4182963  5.0140114  4.842003   5.951072\n",
            "  8.145987   7.856746   8.257826   8.848743   7.1845546  6.099616\n",
            "  6.846844   6.422472   7.1178966  8.814483   8.046813   8.225975\n",
            "  7.4420004  7.3465543  5.1497755  4.16231    4.799688   6.332566\n",
            "  6.9383464  7.0936003  7.6044364  6.5068645  4.7281475  5.5451674\n",
            "  6.7775474  8.093901   6.827907   7.141753   8.636897  10.030813\n",
            "  8.309152   7.6774173  4.6881437  6.9139094  7.670056   7.847573\n",
            "  7.55034    7.662388   7.7065444  6.6283627  7.54629    9.446462\n",
            "  7.7165804  8.176998   7.0629673  5.6448803  7.0365243  7.6694684\n",
            "  7.833326   7.9933605  9.160131   8.580861   6.898316   8.790936\n",
            "  7.8160396  7.029622   8.222702   7.401523   6.4074264  7.610322\n",
            "  7.9902983  6.562817   8.729971   8.967061   8.814049   7.5503335\n",
            "  8.638095   9.060408   8.102425   6.7636266  7.7152543 10.944664\n",
            "  7.8046002  7.822416   8.381072   7.517979   7.484677   8.889478\n",
            "  8.015118   9.4538145  9.209934   9.822243   8.911236   8.034806\n",
            " 11.148557   8.34146    7.6155944  9.453499   7.195944   9.25111\n",
            "  7.161445  10.716286  11.244936   9.380391   7.8301864  6.7379737\n",
            "  9.487692  10.534525   9.186673   8.492554   9.796938   9.527002\n",
            "  9.942131  10.607533  10.585568  10.655377   9.014803  10.955324\n",
            "  8.69839    8.465521  11.87884   11.164306   9.416235  10.418575\n",
            "  9.915259  11.517475  10.448549  12.201303  11.4058275  9.230553\n",
            " 10.11784   10.113196  12.152459   9.210057   9.353514  10.580489\n",
            "  9.371223  11.710021  12.71849   11.65962   11.064272  11.897564\n",
            "  9.588288  10.626154  11.651635  11.928239  10.367252  11.695285\n",
            " 12.640747  12.670675  13.919638  11.223001  12.308945  12.773455\n",
            " 12.95347   14.237385  16.425175  13.021042  13.806488  13.344521\n",
            " 13.367351  14.167205  15.914983  15.599987  15.135715  16.709116\n",
            " 13.938067  14.136288  12.504494  14.499033  15.301599  15.149856\n",
            " 14.20832   16.790073  15.443894  14.961442  14.081134  12.488348\n",
            " 13.704905  13.647908  13.156341  15.639986  14.905943  13.057873\n",
            " 13.554749  13.109493  13.155449  13.58314   15.215429  14.796144\n",
            " 13.547717  13.056747  12.212056  14.463204  13.265181  14.300567\n",
            " 13.743523  14.950859  14.513762  14.440214  15.259292  15.711527\n",
            " 14.849069  16.390425  17.007008  18.191599  16.90588   15.38444\n",
            " 16.125702  15.299299  12.626481  13.3831    15.153646  14.327964\n",
            " 14.405004  13.994843  14.59394   14.579755  17.15379   14.253529\n",
            " 16.016582  16.36782   16.164085  14.57172   16.396921  16.097548\n",
            " 13.47181   13.998071  15.33751   14.857161  14.664782  13.998267\n",
            " 14.315117  15.55624   15.385476  16.158573  15.323976  15.238592\n",
            " 14.217687  14.978376  16.537762  15.378484  16.941126  13.648341\n",
            " 14.889349  14.850693  15.842834  17.292702  15.649334  15.232712\n",
            " 16.38556   16.213835  16.667315  17.55183   17.560291  16.727139\n",
            " 17.968027  18.273064  17.912683  16.995083  15.309693  12.703429\n",
            " 14.576614  15.488841  14.761538  13.329586  11.658974  12.771036\n",
            " 14.576488  12.332037  12.597555  14.610271  14.225376  13.704398\n",
            " 13.495025  14.557284  15.273978  15.7906475 15.7097025 16.54513\n",
            " 17.88532   14.251643  12.790699  13.609761  14.117633  14.870499\n",
            " 14.405386  12.323156  13.3106785 14.356282  15.321549  14.685503\n",
            " 14.686555  14.99869   14.867577  16.893936  15.702298  16.882479\n",
            " 15.312977  12.0089655 12.500134  13.772687  13.661188  12.693747\n",
            " 14.038484  14.261624  14.264861  12.525249  13.608018  14.087735\n",
            " 12.613374  12.224756  11.199362  12.300173  11.162595  12.840551\n",
            " 13.242989  12.4345455 13.7949705 14.688757  13.271194   9.772967\n",
            "  8.025646   9.155121  12.204001  10.09096   11.109952  11.001526\n",
            " 10.526659  10.549237  10.176118  12.628245  10.139301  10.439076\n",
            " 10.183449   8.027266   7.2805448  8.669365   9.940825  10.010127\n",
            " 10.168738   8.927464   7.710547   6.6272497  7.5786004  9.722683\n",
            "  9.518779   8.756264   8.910004   8.869055   9.985425   8.046896\n",
            "  7.549002   7.8565583  8.446838   9.854461   8.154861   8.28013\n",
            " 10.4846945  6.94699    6.5200357  7.675734   9.155643   8.544689\n",
            "  8.8004875  8.835813   9.145701   8.468163  10.051231   8.697028\n",
            "  8.518732   7.1347556  7.358078   6.1730237  7.2279267  9.319201\n",
            "  8.1007805  8.179605   8.282099   8.108943   9.137876   6.450224\n",
            "  7.1076474  9.622149   9.274473   8.904397   6.897018   6.340353\n",
            "  8.007402   9.16838    9.591401   9.940914   8.806158  10.117462\n",
            "  7.5701447  8.551891   9.568816   9.299753   9.720862  10.318628\n",
            "  9.449419   7.9293823  8.925985   8.358946   8.703737   7.7634506\n",
            "  7.0236726  8.058444   9.58918    7.46805    9.104695  10.122548\n",
            "  8.352553   8.635091   9.045786   7.6974473  8.0863285  7.762908\n",
            "  8.855856   8.574203   9.337136   8.91707    8.476633   8.3288\n",
            "  8.406431   9.123082   9.544704   9.644599   7.5387588  7.776217\n",
            "  8.356861   8.203895   8.764807   5.558871   7.590426  10.498164\n",
            "  8.623224   8.659198   7.4965754  9.25906    8.90627    8.332392\n",
            "  9.997087   9.734589   8.209754   5.7521925  6.9088993  9.760825\n",
            " 11.185141  10.262064   9.159712   7.8766136  9.7952175 10.128283\n",
            "  6.382434   8.509227  10.758296  12.10425    9.173437   7.9769773\n",
            "  7.0205917 10.268404  12.649941   9.13693    6.737758  10.712893\n",
            "  9.153259  10.054828  11.1279125 10.383677  10.29121   10.968415\n",
            " 12.445636   9.796499  10.4474325  8.161845  10.226345   9.979295\n",
            " 11.028118  10.469058   8.763441   9.0579405 13.046363  11.897048\n",
            "  9.971405  11.248415  10.861584   8.081624  11.130373   9.905848\n",
            " 10.726487  11.787014  11.179695  12.403232  13.074857  14.817262\n",
            " 12.489341  13.884044  14.186936  14.412187  12.530941  13.473026\n",
            " 12.291002  13.020783  15.729436  15.465793  13.832432  13.420576\n",
            " 12.578837  10.582103  13.299182  13.626578  13.60561   13.202458\n",
            " 12.889303  10.858598  12.172521  11.597592  10.435629  13.916752\n",
            " 12.027562  11.205776  12.168545  12.964908  12.8218355 10.552224\n",
            " 13.936504  13.650057  12.434657  13.450982  13.349716  14.885605\n",
            " 15.322055  16.539888  16.558607  16.5881    14.822253  14.415137\n",
            " 12.493603  12.632236  14.351118  12.447346  13.125676  13.685778\n",
            " 13.549776  13.877932  15.5683775 14.266766  14.978027  13.923858\n",
            " 14.061861  14.608431  11.977162  13.905758  14.647621  13.887869\n",
            " 13.998142  14.078994  15.245293 ]\n"
          ]
        }
      ]
    },
    {
      "cell_type": "markdown",
      "metadata": {
        "collapsed": false,
        "id": "46vKm-K1RVrl"
      },
      "source": [
        "# 8. Mostrar gráficamente los resultados.\n",
        "\n",
        "Una vez obtenido el resultado de la actividad, se procede a revisr de forma gráfica el training y validation loss a lo largo de los epochs en este nuevo entrenamiento con el learning rate optimizado."
      ]
    },
    {
      "cell_type": "code",
      "metadata": {
        "id": "YwQvZC6wlaTi"
      },
      "source": [
        "import matplotlib.image  as mpimg\n",
        "import matplotlib.pyplot as plt\n",
        "\n",
        "#-----------------------------------------------------------\n",
        "# Recuperar una lista de resultados de la lista de datos de entrenamiento y pruebas para cada epoch de entrenamiento\n",
        "#-----------------------------------------------------------\n",
        "loss=history.history['loss']\n",
        "\n",
        "epochs=range(len(loss)) # Get number of epochs"
      ],
      "execution_count": 43,
      "outputs": []
    },
    {
      "cell_type": "markdown",
      "metadata": {
        "collapsed": false,
        "id": "CAEJ3vP3lbz9"
      },
      "source": [
        "A continuación se realiza el plot de la pérdida frente a los epochs"
      ]
    },
    {
      "cell_type": "code",
      "metadata": {
        "id": "yKwWOTYCl4Ib",
        "colab": {
          "base_uri": "https://localhost:8080/",
          "height": 509
        },
        "outputId": "580265ca-5d21-4b4e-b825-f6cc6025c32a"
      },
      "source": [
        "#------------------------------------------------\n",
        "# Pérdida de entrenamiento y validación por epoch\n",
        "#------------------------------------------------\n",
        "plt.plot(epochs, loss, 'r')\n",
        "plt.title('Training loss')\n",
        "plt.xlabel(\"Epochs\")\n",
        "plt.ylabel(\"Loss\")\n",
        "plt.legend([\"Loss\"])\n",
        "\n",
        "plt.figure()"
      ],
      "execution_count": 44,
      "outputs": [
        {
          "output_type": "execute_result",
          "data": {
            "text/plain": [
              "<Figure size 640x480 with 0 Axes>"
            ]
          },
          "metadata": {},
          "execution_count": 44
        },
        {
          "output_type": "display_data",
          "data": {
            "text/plain": [
              "<Figure size 640x480 with 1 Axes>"
            ],
            "image/png": "[encoded data removed]"
          },
          "metadata": {}
        },
        {
          "output_type": "display_data",
          "data": {
            "text/plain": [
              "<Figure size 640x480 with 0 Axes>"
            ]
          },
          "metadata": {}
        }
      ]
    },
    {
      "cell_type": "markdown",
      "metadata": {
        "collapsed": false,
        "id": "Xw4817Otl6A6"
      },
      "source": [
        "**Ejercicio 8 (0.5 punto)**: Utilizando las 2 nuevas variables zoomed_loss y zoomed_epochs y con base en el código anterior, hacer el plot del loss frente a los epochs entre los epoch 20 y 150 para ver como va oscilando y no es un proceso lineal como podria parecer según el anterior plot."
      ]
    },
    {
      "cell_type": "code",
      "metadata": {
        "id": "gh6OToWdAggR"
      },
      "source": [
        "#------------------------------------------------\n",
        "# Pérdida de entrenamiento y validación por epoch con zoom\n",
        "#------------------------------------------------\n",
        "zoomed_loss = loss[20:]\n",
        "zoomed_epochs = range(20,150)\n",
        "#\n",
        "## tu código para el plot con zoom del ejercicio 8 aquí"
      ],
      "execution_count": 45,
      "outputs": []
    },
    {
      "cell_type": "code",
      "source": [],
      "metadata": {
        "id": "X6XxFmCFriFK"
      },
      "execution_count": null,
      "outputs": []
    }
  ]
}