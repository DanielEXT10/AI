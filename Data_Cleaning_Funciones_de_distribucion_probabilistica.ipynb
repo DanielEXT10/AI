{
  "nbformat": 4,
  "nbformat_minor": 0,
  "metadata": {
    "colab": {
      "provenance": [],
      "authorship_tag": "ABX9TyNzHAmHzHr6BAm3AlLV22AM",
      "include_colab_link": true
    },
    "kernelspec": {
      "name": "python3",
      "display_name": "Python 3"
    }
  },
  "cells": [
    {
      "cell_type": "markdown",
      "metadata": {
        "id": "view-in-github",
        "colab_type": "text"
      },
      "source": [
        "<a href=\"https://colab.research.google.com/github/DanielEXT10/AI/blob/main/Data_Cleaning_Funciones_de_distribucion_probabilistica.ipynb\" target=\"_parent\"><img src=\"https://colab.research.google.com/assets/colab-badge.svg\" alt=\"Open In Colab\"/></a>"
      ]
    },
    {
      "cell_type": "markdown",
      "metadata": {
        "id": "ZZ6a85kQDF3o"
      },
      "source": [
        "# Funciones de distribucion probabilistica"
      ]
    },
    {
      "cell_type": "markdown",
      "metadata": {
        "id": "0w7-ItfrDOgF"
      },
      "source": [
        "## Distribucion Uniforme\n",
        "Generacion de numeros aleatorios equiprobables"
      ]
    },
    {
      "cell_type": "code",
      "metadata": {
        "id": "rrxFA3EHC8dL"
      },
      "source": [
        "import numpy as np\n",
        "import matplotlib.pyplot as plt\n",
        "import pandas as pd\n"
      ],
      "execution_count": null,
      "outputs": []
    },
    {
      "cell_type": "code",
      "metadata": {
        "id": "70zLytFpDebN"
      },
      "source": [
        "a = 1 #valor inicial\n",
        "b= 100 #valor final\n",
        "n = 2000000 #numero de muestras\n",
        "data = np.random.uniform(a,b,n)"
      ],
      "execution_count": null,
      "outputs": []
    },
    {
      "cell_type": "code",
      "metadata": {
        "id": "OggViDlpDxDB",
        "colab": {
          "base_uri": "https://localhost:8080/",
          "height": 34
        },
        "outputId": "39330dbf-1e23-4f79-b4a2-b8d109df4d45"
      },
      "source": [
        "data.shape"
      ],
      "execution_count": null,
      "outputs": [
        {
          "output_type": "execute_result",
          "data": {
            "text/plain": [
              "(2000000,)"
            ]
          },
          "metadata": {
            "tags": []
          },
          "execution_count": 3
        }
      ]
    },
    {
      "cell_type": "code",
      "metadata": {
        "id": "s_X2Cif-Dzn2",
        "colab": {
          "base_uri": "https://localhost:8080/",
          "height": 367
        },
        "outputId": "50927512-3dc4-42b8-9221-acec7768b14a"
      },
      "source": [
        "%matplotlib inline\n",
        "plt.hist(data)"
      ],
      "execution_count": null,
      "outputs": [
        {
          "output_type": "execute_result",
          "data": {
            "text/plain": [
              "(array([200051., 199278., 200498., 199615., 199684., 200530., 200187.,\n",
              "        199933., 200211., 200013.]),\n",
              " array([ 1.00004797, 10.90003599, 20.80002402, 30.70001204, 40.60000007,\n",
              "        50.49998809, 60.39997611, 70.29996414, 80.19995216, 90.09994019,\n",
              "        99.99992821]),\n",
              " <a list of 10 Patch objects>)"
            ]
          },
          "metadata": {
            "tags": []
          },
          "execution_count": 4
        },
        {
          "output_type": "display_data",
          "data": {
            "image/png": "[encoded data removed]",
            "text/plain": [
              "<Figure size 432x288 with 1 Axes>"
            ]
          },
          "metadata": {
            "tags": [],
            "needs_background": "light"
          }
        }
      ]
    },
    {
      "cell_type": "markdown",
      "metadata": {
        "id": "B9TT9LNEIFgV"
      },
      "source": [
        "## Distribucion Normal"
      ]
    },
    {
      "cell_type": "code",
      "metadata": {
        "id": "1vPYy50eEJmK"
      },
      "source": [
        "data = np.random.randn(1000000)\n"
      ],
      "execution_count": null,
      "outputs": []
    },
    {
      "cell_type": "code",
      "metadata": {
        "id": "kZ_eXeX7Jm9n",
        "colab": {
          "base_uri": "https://localhost:8080/",
          "height": 295
        },
        "outputId": "88576bf4-8dd7-4cd3-97e2-50053b3d6b7e"
      },
      "source": [
        "x = range(1,1000001)\n",
        "plt.plot(x,data)"
      ],
      "execution_count": null,
      "outputs": [
        {
          "output_type": "execute_result",
          "data": {
            "text/plain": [
              "[<matplotlib.lines.Line2D at 0x7f554e161f98>]"
            ]
          },
          "metadata": {
            "tags": []
          },
          "execution_count": 6
        },
        {
          "output_type": "display_data",
          "data": {
            "image/png": "[encoded data removed]",
            "text/plain": [
              "<Figure size 432x288 with 1 Axes>"
            ]
          },
          "metadata": {
            "tags": [],
            "needs_background": "light"
          }
        }
      ]
    },
    {
      "cell_type": "code",
      "metadata": {
        "id": "q2n2Sdp3J1Dx",
        "colab": {
          "base_uri": "https://localhost:8080/",
          "height": 367
        },
        "outputId": "6ca3b230-ed41-4098-cfe8-c8307a6dafa9"
      },
      "source": [
        "plt.hist(data)"
      ],
      "execution_count": null,
      "outputs": [
        {
          "output_type": "execute_result",
          "data": {
            "text/plain": [
              "(array([7.40000e+01, 2.15700e+03, 2.50100e+04, 1.33901e+05, 3.16958e+05,\n",
              "        3.32105e+05, 1.54868e+05, 3.18530e+04, 2.96500e+03, 1.09000e+02]),\n",
              " array([-4.71779138, -3.78469557, -2.85159977, -1.91850396, -0.98540816,\n",
              "        -0.05231235,  0.88078345,  1.81387925,  2.74697506,  3.68007086,\n",
              "         4.61316667]),\n",
              " <a list of 10 Patch objects>)"
            ]
          },
          "metadata": {
            "tags": []
          },
          "execution_count": 7
        },
        {
          "output_type": "display_data",
          "data": {
            "image/png": "[encoded data removed]",
            "text/plain": [
              "<Figure size 432x288 with 1 Axes>"
            ]
          },
          "metadata": {
            "tags": [],
            "needs_background": "light"
          }
        }
      ]
    },
    {
      "cell_type": "code",
      "metadata": {
        "id": "eNmt1HeoKJwW",
        "colab": {
          "base_uri": "https://localhost:8080/",
          "height": 295
        },
        "outputId": "e45abc3f-f4f3-4beb-d7da-97f2cb523044"
      },
      "source": [
        "#Funcion de distribucion acumulada\n",
        "#Forma descriptiva de una funcion Gaussiana\n",
        "plt.plot(x, sorted(data))"
      ],
      "execution_count": null,
      "outputs": [
        {
          "output_type": "execute_result",
          "data": {
            "text/plain": [
              "[<matplotlib.lines.Line2D at 0x7f554bab9c50>]"
            ]
          },
          "metadata": {
            "tags": []
          },
          "execution_count": 8
        },
        {
          "output_type": "display_data",
          "data": {
            "image/png": "[encoded data removed]",
            "text/plain": [
              "<Figure size 432x288 with 1 Axes>"
            ]
          },
          "metadata": {
            "tags": [],
            "needs_background": "light"
          }
        }
      ]
    },
    {
      "cell_type": "code",
      "metadata": {
        "id": "H2kst6CdKrI2",
        "colab": {
          "base_uri": "https://localhost:8080/",
          "height": 367
        },
        "outputId": "53ef6f95-4698-4ce9-a8b1-d5aad222bc80"
      },
      "source": [
        "mu = 5.5 #Media\n",
        "sd = 2.5 #Desviacion estandar\n",
        "Z_10000 = np.random.randn(10000)\n",
        "data = mu + sd * Z_10000 # Teorema del limite central Z = (X - mu)/ sd\n",
        "plt.hist(data)"
      ],
      "execution_count": null,
      "outputs": [
        {
          "output_type": "execute_result",
          "data": {
            "text/plain": [
              "(array([   5.,   76.,  420., 1342., 2624., 2832., 1840.,  685.,  158.,\n",
              "          18.]),\n",
              " array([-4.24538226, -2.36230208, -0.4792219 ,  1.40385829,  3.28693847,\n",
              "         5.17001865,  7.05309884,  8.93617902, 10.81925921, 12.70233939,\n",
              "        14.58541957]),\n",
              " <a list of 10 Patch objects>)"
            ]
          },
          "metadata": {
            "tags": []
          },
          "execution_count": 9
        },
        {
          "output_type": "display_data",
          "data": {
            "image/png": "[encoded data removed]",
            "text/plain": [
              "<Figure size 432x288 with 1 Axes>"
            ]
          },
          "metadata": {
            "tags": [],
            "needs_background": "light"
          }
        }
      ]
    },
    {
      "cell_type": "code",
      "metadata": {
        "id": "QbP7s8_WLXsC",
        "colab": {
          "base_uri": "https://localhost:8080/",
          "height": 51
        },
        "outputId": "27e8f0ff-db29-422f-ec4e-8c18533f525b"
      },
      "source": [
        "#Genera dos arrays aleatorios de cuatro elementos\n",
        "data = np.random.randn(2,4)\n",
        "data"
      ],
      "execution_count": null,
      "outputs": [
        {
          "output_type": "execute_result",
          "data": {
            "text/plain": [
              "array([[-1.64129121,  0.75062862,  0.58414261, -0.86931813],\n",
              "       [-0.10556127,  1.66910261, -0.94842147,  2.24627827]])"
            ]
          },
          "metadata": {
            "tags": []
          },
          "execution_count": 10
        }
      ]
    },
    {
      "cell_type": "markdown",
      "metadata": {
        "id": "QuBbH043WnMG"
      },
      "source": [
        "## La simulacion de Monte Carlo\n",
        "Ideada por John Von Neuman"
      ]
    },
    {
      "cell_type": "markdown",
      "metadata": {
        "id": "RafGgA49Z3Hm"
      },
      "source": [
        "Generamos dos numeros aleatorios uniformes x e y entre 0 y 1\n",
        "\n",
        "Calcularemos  x*x + y*y\n",
        "\n",
        "    Si el valor es inferior a 1 -> estamos dentro del círculo.\n",
        "    Si el valor es superior a 1 -> estamos fuera del circulo.\n",
        "\n",
        "Calculamos el numero total de veces que estan dentro del circulo y lo dividimos entre el numero tital de intentos para obtener una aproximacion de la probabilidad de caer dentro del circulo.\n",
        "\n",
        "Usamos dicha probabilidad para aproximar el valor de pi.\n",
        "\n",
        "Repetimos el experimento un numero suficiente de veces, para obtener diferentes aproximaciones de pi.\n",
        "\n",
        "Calculamos el promedio de los experimentos anteriores para dar un valor final de pi.\n",
        "\n",
        "\n",
        "\n"
      ]
    },
    {
      "cell_type": "code",
      "metadata": {
        "id": "9dHBPQLgWQwS"
      },
      "source": [
        "def pi_montecarlo(n, n_exp):\n",
        "  pi_avg = 0\n",
        "  pi_value_list = []\n",
        "  for i in range(n_exp):\n",
        "    value = 0\n",
        "    x = np.random.uniform(0,1,n).tolist()\n",
        "    y = np.random.uniform(0,1,n).tolist()\n",
        "    for j in range (n):\n",
        "      z = np.sqrt(x[j]*x[j] + y[j]*y[j])\n",
        "      if z <= 1:\n",
        "        value +=1\n",
        "\n",
        "    float_value = float(value)\n",
        "    pi_value = float_value *4 / n\n",
        "    pi_value_list.append(pi_value)\n",
        "    pi_avg += pi_value\n",
        "  pi = pi_avg/n_exp\n",
        "  print(pi)\n",
        "  fig = plt.plot(pi_value_list)\n",
        "  return(pi, fig)"
      ],
      "execution_count": null,
      "outputs": []
    },
    {
      "cell_type": "code",
      "metadata": {
        "id": "oHFiUWdEdwPk",
        "colab": {
          "base_uri": "https://localhost:8080/",
          "height": 299
        },
        "outputId": "f6ca6936-1d10-4439-f2f8-a0c3bbe4eb7a"
      },
      "source": [
        "pi_montecarlo(10000,200)"
      ],
      "execution_count": null,
      "outputs": [
        {
          "output_type": "stream",
          "text": [
            "3.141362000000001\n"
          ],
          "name": "stdout"
        },
        {
          "output_type": "execute_result",
          "data": {
            "text/plain": [
              "(3.141362000000001, [<matplotlib.lines.Line2D at 0x7f554d10fe80>])"
            ]
          },
          "metadata": {
            "tags": []
          },
          "execution_count": 12
        },
        {
          "output_type": "display_data",
          "data": {
            "image/png": "[encoded data removed]",
            "text/plain": [
              "<Figure size 432x288 with 1 Axes>"
            ]
          },
          "metadata": {
            "tags": [],
            "needs_background": "light"
          }
        }
      ]
    },
    {
      "cell_type": "markdown",
      "metadata": {
        "id": "St45V4EHgwmk"
      },
      "source": [
        "### Generacion de Dummy Data Sets"
      ]
    },
    {
      "cell_type": "code",
      "metadata": {
        "id": "52ZoBIrBgjsv"
      },
      "source": [
        "n = 1000000\n",
        "data = pd.DataFrame(\n",
        "    {\n",
        "        'A' : np.random.randn(n),\n",
        "        'B' : 1.5 + 2.5 * np.random.randn(n),\n",
        "        'C' : np.random.uniform(5,32,n)\n",
        "    }\n",
        ")"
      ],
      "execution_count": null,
      "outputs": []
    },
    {
      "cell_type": "code",
      "metadata": {
        "id": "0OqSP7_X8Iz6",
        "colab": {
          "base_uri": "https://localhost:8080/",
          "height": 204
        },
        "outputId": "9cf3c272-248d-402e-995d-2e01064e69ba"
      },
      "source": [
        "data.head()"
      ],
      "execution_count": null,
      "outputs": [
        {
          "output_type": "execute_result",
          "data": {
            "text/html": [
              "<div>\n",
              "<style scoped>\n",
              "    .dataframe tbody tr th:only-of-type {\n",
              "        vertical-align: middle;\n",
              "    }\n",
              "\n",
              "    .dataframe tbody tr th {\n",
              "        vertical-align: top;\n",
              "    }\n",
              "\n",
              "    .dataframe thead th {\n",
              "        text-align: right;\n",
              "    }\n",
              "</style>\n",
              "<table border=\"1\" class=\"dataframe\">\n",
              "  <thead>\n",
              "    <tr style=\"text-align: right;\">\n",
              "      <th></th>\n",
              "      <th>A</th>\n",
              "      <th>B</th>\n",
              "      <th>C</th>\n",
              "    </tr>\n",
              "  </thead>\n",
              "  <tbody>\n",
              "    <tr>\n",
              "      <th>0</th>\n",
              "      <td>0.161419</td>\n",
              "      <td>1.715076</td>\n",
              "      <td>10.786886</td>\n",
              "    </tr>\n",
              "    <tr>\n",
              "      <th>1</th>\n",
              "      <td>-0.311903</td>\n",
              "      <td>5.356800</td>\n",
              "      <td>27.618256</td>\n",
              "    </tr>\n",
              "    <tr>\n",
              "      <th>2</th>\n",
              "      <td>-2.135890</td>\n",
              "      <td>3.121666</td>\n",
              "      <td>10.180667</td>\n",
              "    </tr>\n",
              "    <tr>\n",
              "      <th>3</th>\n",
              "      <td>-0.650964</td>\n",
              "      <td>1.664655</td>\n",
              "      <td>24.170752</td>\n",
              "    </tr>\n",
              "    <tr>\n",
              "      <th>4</th>\n",
              "      <td>-0.620153</td>\n",
              "      <td>1.089442</td>\n",
              "      <td>19.824311</td>\n",
              "    </tr>\n",
              "  </tbody>\n",
              "</table>\n",
              "</div>"
            ],
            "text/plain": [
              "          A         B          C\n",
              "0  0.161419  1.715076  10.786886\n",
              "1 -0.311903  5.356800  27.618256\n",
              "2 -2.135890  3.121666  10.180667\n",
              "3 -0.650964  1.664655  24.170752\n",
              "4 -0.620153  1.089442  19.824311"
            ]
          },
          "metadata": {
            "tags": []
          },
          "execution_count": 14
        }
      ]
    },
    {
      "cell_type": "code",
      "metadata": {
        "id": "DlMyfJE08q2f",
        "colab": {
          "base_uri": "https://localhost:8080/",
          "height": 297
        },
        "outputId": "b0c5e7bf-1b82-485f-c0e4-9adceb18b68d"
      },
      "source": [
        "data.describe()"
      ],
      "execution_count": null,
      "outputs": [
        {
          "output_type": "execute_result",
          "data": {
            "text/html": [
              "<div>\n",
              "<style scoped>\n",
              "    .dataframe tbody tr th:only-of-type {\n",
              "        vertical-align: middle;\n",
              "    }\n",
              "\n",
              "    .dataframe tbody tr th {\n",
              "        vertical-align: top;\n",
              "    }\n",
              "\n",
              "    .dataframe thead th {\n",
              "        text-align: right;\n",
              "    }\n",
              "</style>\n",
              "<table border=\"1\" class=\"dataframe\">\n",
              "  <thead>\n",
              "    <tr style=\"text-align: right;\">\n",
              "      <th></th>\n",
              "      <th>A</th>\n",
              "      <th>B</th>\n",
              "      <th>C</th>\n",
              "    </tr>\n",
              "  </thead>\n",
              "  <tbody>\n",
              "    <tr>\n",
              "      <th>count</th>\n",
              "      <td>1000000.000000</td>\n",
              "      <td>1000000.000000</td>\n",
              "      <td>1000000.000000</td>\n",
              "    </tr>\n",
              "    <tr>\n",
              "      <th>mean</th>\n",
              "      <td>0.000006</td>\n",
              "      <td>1.501714</td>\n",
              "      <td>18.508177</td>\n",
              "    </tr>\n",
              "    <tr>\n",
              "      <th>std</th>\n",
              "      <td>0.998942</td>\n",
              "      <td>2.497881</td>\n",
              "      <td>7.792273</td>\n",
              "    </tr>\n",
              "    <tr>\n",
              "      <th>min</th>\n",
              "      <td>-4.619763</td>\n",
              "      <td>-11.619886</td>\n",
              "      <td>5.000009</td>\n",
              "    </tr>\n",
              "    <tr>\n",
              "      <th>25%</th>\n",
              "      <td>-0.672856</td>\n",
              "      <td>-0.183415</td>\n",
              "      <td>11.763949</td>\n",
              "    </tr>\n",
              "    <tr>\n",
              "      <th>50%</th>\n",
              "      <td>0.000074</td>\n",
              "      <td>1.500552</td>\n",
              "      <td>18.516674</td>\n",
              "    </tr>\n",
              "    <tr>\n",
              "      <th>75%</th>\n",
              "      <td>0.673162</td>\n",
              "      <td>3.185937</td>\n",
              "      <td>25.255346</td>\n",
              "    </tr>\n",
              "    <tr>\n",
              "      <th>max</th>\n",
              "      <td>4.750833</td>\n",
              "      <td>13.800050</td>\n",
              "      <td>31.999906</td>\n",
              "    </tr>\n",
              "  </tbody>\n",
              "</table>\n",
              "</div>"
            ],
            "text/plain": [
              "                    A               B               C\n",
              "count  1000000.000000  1000000.000000  1000000.000000\n",
              "mean         0.000006        1.501714       18.508177\n",
              "std          0.998942        2.497881        7.792273\n",
              "min         -4.619763      -11.619886        5.000009\n",
              "25%         -0.672856       -0.183415       11.763949\n",
              "50%          0.000074        1.500552       18.516674\n",
              "75%          0.673162        3.185937       25.255346\n",
              "max          4.750833       13.800050       31.999906"
            ]
          },
          "metadata": {
            "tags": []
          },
          "execution_count": 15
        }
      ]
    },
    {
      "cell_type": "code",
      "metadata": {
        "id": "PiaUuVNg8vxs",
        "colab": {
          "base_uri": "https://localhost:8080/",
          "height": 370
        },
        "outputId": "2e94e761-bf65-4f44-8bc3-f70f098211f2"
      },
      "source": [
        "plt.hist(data['A'])"
      ],
      "execution_count": null,
      "outputs": [
        {
          "output_type": "execute_result",
          "data": {
            "text/plain": [
              "(array([9.90000e+01, 2.88600e+03, 3.20240e+04, 1.56195e+05, 3.35069e+05,\n",
              "        3.16228e+05, 1.31331e+05, 2.41770e+04, 1.90000e+03, 9.10000e+01]),\n",
              " array([-4.61976314, -3.68270351, -2.74564389, -1.80858426, -0.87152463,\n",
              "         0.065535  ,  1.00259463,  1.93965426,  2.87671389,  3.81377352,\n",
              "         4.75083315]),\n",
              " <a list of 10 Patch objects>)"
            ]
          },
          "metadata": {
            "tags": []
          },
          "execution_count": 16
        },
        {
          "output_type": "display_data",
          "data": {
            "image/png": "[encoded data removed]",
            "text/plain": [
              "<Figure size 432x288 with 1 Axes>"
            ]
          },
          "metadata": {
            "tags": [],
            "needs_background": "light"
          }
        }
      ]
    },
    {
      "cell_type": "code",
      "metadata": {
        "id": "Uz2baR-T9LlW",
        "colab": {
          "base_uri": "https://localhost:8080/",
          "height": 367
        },
        "outputId": "7d0505f6-ee57-40e5-f799-714dd04418e9"
      },
      "source": [
        "plt.hist(data['B'])"
      ],
      "execution_count": null,
      "outputs": [
        {
          "output_type": "execute_result",
          "data": {
            "text/plain": [
              "(array([1.30000e+01, 6.06000e+02, 1.31640e+04, 1.04959e+05, 3.16220e+05,\n",
              "        3.68032e+05, 1.66169e+05, 2.88760e+04, 1.92100e+03, 4.00000e+01]),\n",
              " array([-11.61988636,  -9.07789271,  -6.53589907,  -3.99390542,\n",
              "         -1.45191177,   1.09008187,   3.63207552,   6.17406916,\n",
              "          8.71606281,  11.25805646,  13.8000501 ]),\n",
              " <a list of 10 Patch objects>)"
            ]
          },
          "metadata": {
            "tags": []
          },
          "execution_count": 17
        },
        {
          "output_type": "display_data",
          "data": {
            "image/png": "[encoded data removed]",
            "text/plain": [
              "<Figure size 432x288 with 1 Axes>"
            ]
          },
          "metadata": {
            "tags": [],
            "needs_background": "light"
          }
        }
      ]
    },
    {
      "cell_type": "code",
      "metadata": {
        "id": "i5JaRyae8LK_",
        "colab": {
          "base_uri": "https://localhost:8080/",
          "height": 367
        },
        "outputId": "dcb80255-0179-47a7-ad12-9a9e5773b3f2"
      },
      "source": [
        "plt.hist(data['C'])"
      ],
      "execution_count": null,
      "outputs": [
        {
          "output_type": "execute_result",
          "data": {
            "text/plain": [
              "(array([ 99790.,  99904.,  99855.,  99802., 100070., 100339.,  99991.,\n",
              "        100116., 100290.,  99843.]),\n",
              " array([ 5.00000852,  7.69999827, 10.39998803, 13.09997778, 15.79996753,\n",
              "        18.49995729, 21.19994704, 23.89993679, 26.59992655, 29.2999163 ,\n",
              "        31.99990605]),\n",
              " <a list of 10 Patch objects>)"
            ]
          },
          "metadata": {
            "tags": []
          },
          "execution_count": 18
        },
        {
          "output_type": "display_data",
          "data": {
            "image/png": "[encoded data removed]",
            "text/plain": [
              "<Figure size 432x288 with 1 Axes>"
            ]
          },
          "metadata": {
            "tags": [],
            "needs_background": "light"
          }
        }
      ]
    },
    {
      "cell_type": "code",
      "metadata": {
        "id": "MC0sTbT19Wqx",
        "colab": {
          "base_uri": "https://localhost:8080/",
          "height": 119
        },
        "outputId": "2b5a8b47-b40a-4f38-895e-049b1a9fd023"
      },
      "source": [
        "!git clone https://github.com/joanby/python-ml-course.git"
      ],
      "execution_count": null,
      "outputs": [
        {
          "output_type": "stream",
          "text": [
            "Cloning into 'python-ml-course'...\n",
            "remote: Enumerating objects: 17387, done.\u001b[K\n",
            "remote: Total 17387 (delta 0), reused 0 (delta 0), pack-reused 17387\u001b[K\n",
            "Receiving objects: 100% (17387/17387), 512.33 MiB | 26.99 MiB/s, done.\n",
            "Resolving deltas: 100% (128/128), done.\n",
            "Checking out files: 100% (16900/16900), done.\n"
          ],
          "name": "stdout"
        }
      ]
    },
    {
      "cell_type": "code",
      "metadata": {
        "id": "-xnGU6uSBTrr"
      },
      "source": [
        "data = pd.read_csv('/content/python-ml-course/datasets/customer-churn-model/Customer Churn Model.txt')"
      ],
      "execution_count": null,
      "outputs": []
    },
    {
      "cell_type": "code",
      "metadata": {
        "id": "IzoTsyAwBwXD",
        "colab": {
          "base_uri": "https://localhost:8080/",
          "height": 326
        },
        "outputId": "267d2d71-75e8-46eb-c4c8-8ab9e63ca5ae"
      },
      "source": [
        "data.head()"
      ],
      "execution_count": null,
      "outputs": [
        {
          "output_type": "execute_result",
          "data": {
            "text/html": [
              "<div>\n",
              "<style scoped>\n",
              "    .dataframe tbody tr th:only-of-type {\n",
              "        vertical-align: middle;\n",
              "    }\n",
              "\n",
              "    .dataframe tbody tr th {\n",
              "        vertical-align: top;\n",
              "    }\n",
              "\n",
              "    .dataframe thead th {\n",
              "        text-align: right;\n",
              "    }\n",
              "</style>\n",
              "<table border=\"1\" class=\"dataframe\">\n",
              "  <thead>\n",
              "    <tr style=\"text-align: right;\">\n",
              "      <th></th>\n",
              "      <th>State</th>\n",
              "      <th>Account Length</th>\n",
              "      <th>Area Code</th>\n",
              "      <th>Phone</th>\n",
              "      <th>Int'l Plan</th>\n",
              "      <th>VMail Plan</th>\n",
              "      <th>VMail Message</th>\n",
              "      <th>Day Mins</th>\n",
              "      <th>Day Calls</th>\n",
              "      <th>Day Charge</th>\n",
              "      <th>Eve Mins</th>\n",
              "      <th>Eve Calls</th>\n",
              "      <th>Eve Charge</th>\n",
              "      <th>Night Mins</th>\n",
              "      <th>Night Calls</th>\n",
              "      <th>Night Charge</th>\n",
              "      <th>Intl Mins</th>\n",
              "      <th>Intl Calls</th>\n",
              "      <th>Intl Charge</th>\n",
              "      <th>CustServ Calls</th>\n",
              "      <th>Churn?</th>\n",
              "    </tr>\n",
              "  </thead>\n",
              "  <tbody>\n",
              "    <tr>\n",
              "      <th>0</th>\n",
              "      <td>KS</td>\n",
              "      <td>128</td>\n",
              "      <td>415</td>\n",
              "      <td>382-4657</td>\n",
              "      <td>no</td>\n",
              "      <td>yes</td>\n",
              "      <td>25</td>\n",
              "      <td>265.1</td>\n",
              "      <td>110</td>\n",
              "      <td>45.07</td>\n",
              "      <td>197.4</td>\n",
              "      <td>99</td>\n",
              "      <td>16.78</td>\n",
              "      <td>244.7</td>\n",
              "      <td>91</td>\n",
              "      <td>11.01</td>\n",
              "      <td>10.0</td>\n",
              "      <td>3</td>\n",
              "      <td>2.70</td>\n",
              "      <td>1</td>\n",
              "      <td>False.</td>\n",
              "    </tr>\n",
              "    <tr>\n",
              "      <th>1</th>\n",
              "      <td>OH</td>\n",
              "      <td>107</td>\n",
              "      <td>415</td>\n",
              "      <td>371-7191</td>\n",
              "      <td>no</td>\n",
              "      <td>yes</td>\n",
              "      <td>26</td>\n",
              "      <td>161.6</td>\n",
              "      <td>123</td>\n",
              "      <td>27.47</td>\n",
              "      <td>195.5</td>\n",
              "      <td>103</td>\n",
              "      <td>16.62</td>\n",
              "      <td>254.4</td>\n",
              "      <td>103</td>\n",
              "      <td>11.45</td>\n",
              "      <td>13.7</td>\n",
              "      <td>3</td>\n",
              "      <td>3.70</td>\n",
              "      <td>1</td>\n",
              "      <td>False.</td>\n",
              "    </tr>\n",
              "    <tr>\n",
              "      <th>2</th>\n",
              "      <td>NJ</td>\n",
              "      <td>137</td>\n",
              "      <td>415</td>\n",
              "      <td>358-1921</td>\n",
              "      <td>no</td>\n",
              "      <td>no</td>\n",
              "      <td>0</td>\n",
              "      <td>243.4</td>\n",
              "      <td>114</td>\n",
              "      <td>41.38</td>\n",
              "      <td>121.2</td>\n",
              "      <td>110</td>\n",
              "      <td>10.30</td>\n",
              "      <td>162.6</td>\n",
              "      <td>104</td>\n",
              "      <td>7.32</td>\n",
              "      <td>12.2</td>\n",
              "      <td>5</td>\n",
              "      <td>3.29</td>\n",
              "      <td>0</td>\n",
              "      <td>False.</td>\n",
              "    </tr>\n",
              "    <tr>\n",
              "      <th>3</th>\n",
              "      <td>OH</td>\n",
              "      <td>84</td>\n",
              "      <td>408</td>\n",
              "      <td>375-9999</td>\n",
              "      <td>yes</td>\n",
              "      <td>no</td>\n",
              "      <td>0</td>\n",
              "      <td>299.4</td>\n",
              "      <td>71</td>\n",
              "      <td>50.90</td>\n",
              "      <td>61.9</td>\n",
              "      <td>88</td>\n",
              "      <td>5.26</td>\n",
              "      <td>196.9</td>\n",
              "      <td>89</td>\n",
              "      <td>8.86</td>\n",
              "      <td>6.6</td>\n",
              "      <td>7</td>\n",
              "      <td>1.78</td>\n",
              "      <td>2</td>\n",
              "      <td>False.</td>\n",
              "    </tr>\n",
              "    <tr>\n",
              "      <th>4</th>\n",
              "      <td>OK</td>\n",
              "      <td>75</td>\n",
              "      <td>415</td>\n",
              "      <td>330-6626</td>\n",
              "      <td>yes</td>\n",
              "      <td>no</td>\n",
              "      <td>0</td>\n",
              "      <td>166.7</td>\n",
              "      <td>113</td>\n",
              "      <td>28.34</td>\n",
              "      <td>148.3</td>\n",
              "      <td>122</td>\n",
              "      <td>12.61</td>\n",
              "      <td>186.9</td>\n",
              "      <td>121</td>\n",
              "      <td>8.41</td>\n",
              "      <td>10.1</td>\n",
              "      <td>3</td>\n",
              "      <td>2.73</td>\n",
              "      <td>3</td>\n",
              "      <td>False.</td>\n",
              "    </tr>\n",
              "  </tbody>\n",
              "</table>\n",
              "</div>"
            ],
            "text/plain": [
              "  State  Account Length  Area Code  ... Intl Charge CustServ Calls  Churn?\n",
              "0    KS             128        415  ...        2.70              1  False.\n",
              "1    OH             107        415  ...        3.70              1  False.\n",
              "2    NJ             137        415  ...        3.29              0  False.\n",
              "3    OH              84        408  ...        1.78              2  False.\n",
              "4    OK              75        415  ...        2.73              3  False.\n",
              "\n",
              "[5 rows x 21 columns]"
            ]
          },
          "metadata": {
            "tags": []
          },
          "execution_count": 21
        }
      ]
    },
    {
      "cell_type": "code",
      "metadata": {
        "id": "p6UahRZmBjGE"
      },
      "source": [
        "column_names= data.columns.values.tolist()"
      ],
      "execution_count": null,
      "outputs": []
    },
    {
      "cell_type": "code",
      "metadata": {
        "id": "EYfmivPk70DI",
        "colab": {
          "base_uri": "https://localhost:8080/",
          "height": 374
        },
        "outputId": "76984a8a-da19-483a-fb06-c0cee43820bf"
      },
      "source": [
        "column_names"
      ],
      "execution_count": null,
      "outputs": [
        {
          "output_type": "execute_result",
          "data": {
            "text/plain": [
              "['State',\n",
              " 'Account Length',\n",
              " 'Area Code',\n",
              " 'Phone',\n",
              " \"Int'l Plan\",\n",
              " 'VMail Plan',\n",
              " 'VMail Message',\n",
              " 'Day Mins',\n",
              " 'Day Calls',\n",
              " 'Day Charge',\n",
              " 'Eve Mins',\n",
              " 'Eve Calls',\n",
              " 'Eve Charge',\n",
              " 'Night Mins',\n",
              " 'Night Calls',\n",
              " 'Night Charge',\n",
              " 'Intl Mins',\n",
              " 'Intl Calls',\n",
              " 'Intl Charge',\n",
              " 'CustServ Calls',\n",
              " 'Churn?']"
            ]
          },
          "metadata": {
            "tags": []
          },
          "execution_count": 23
        }
      ]
    },
    {
      "cell_type": "code",
      "metadata": {
        "id": "4uz4iXfF8E3F",
        "colab": {
          "base_uri": "https://localhost:8080/",
          "height": 34
        },
        "outputId": "96a22ef2-2cc2-4dbb-be27-e978ef6dc57f"
      },
      "source": [
        "a = len(column_names)\n",
        "a"
      ],
      "execution_count": null,
      "outputs": [
        {
          "output_type": "execute_result",
          "data": {
            "text/plain": [
              "21"
            ]
          },
          "metadata": {
            "tags": []
          },
          "execution_count": 25
        }
      ]
    },
    {
      "cell_type": "code",
      "metadata": {
        "id": "P9Do4QP68KuQ"
      },
      "source": [
        "new_data = pd.DataFrame(\n",
        "    {\n",
        "        'Column Name': column_names,\n",
        "        'A': np.random.randn(a),\n",
        "        'B' : np.random.uniform(0,1,a)\n",
        "\n",
        "    }, index = range(42,42 +a)\n",
        ")"
      ],
      "execution_count": null,
      "outputs": []
    },
    {
      "cell_type": "code",
      "metadata": {
        "id": "dqvyLoaU9S1I",
        "colab": {
          "base_uri": "https://localhost:8080/",
          "height": 700
        },
        "outputId": "adb4f4d4-e3b0-45a5-eaa3-c446ef6f2358"
      },
      "source": [
        "new_data"
      ],
      "execution_count": null,
      "outputs": [
        {
          "output_type": "execute_result",
          "data": {
            "text/html": [
              "<div>\n",
              "<style scoped>\n",
              "    .dataframe tbody tr th:only-of-type {\n",
              "        vertical-align: middle;\n",
              "    }\n",
              "\n",
              "    .dataframe tbody tr th {\n",
              "        vertical-align: top;\n",
              "    }\n",
              "\n",
              "    .dataframe thead th {\n",
              "        text-align: right;\n",
              "    }\n",
              "</style>\n",
              "<table border=\"1\" class=\"dataframe\">\n",
              "  <thead>\n",
              "    <tr style=\"text-align: right;\">\n",
              "      <th></th>\n",
              "      <th>Column Name</th>\n",
              "      <th>A</th>\n",
              "      <th>B</th>\n",
              "    </tr>\n",
              "  </thead>\n",
              "  <tbody>\n",
              "    <tr>\n",
              "      <th>42</th>\n",
              "      <td>State</td>\n",
              "      <td>1.353415</td>\n",
              "      <td>0.226638</td>\n",
              "    </tr>\n",
              "    <tr>\n",
              "      <th>43</th>\n",
              "      <td>Account Length</td>\n",
              "      <td>0.664438</td>\n",
              "      <td>0.570123</td>\n",
              "    </tr>\n",
              "    <tr>\n",
              "      <th>44</th>\n",
              "      <td>Area Code</td>\n",
              "      <td>0.485812</td>\n",
              "      <td>0.012432</td>\n",
              "    </tr>\n",
              "    <tr>\n",
              "      <th>45</th>\n",
              "      <td>Phone</td>\n",
              "      <td>-3.639078</td>\n",
              "      <td>0.730284</td>\n",
              "    </tr>\n",
              "    <tr>\n",
              "      <th>46</th>\n",
              "      <td>Int'l Plan</td>\n",
              "      <td>-1.527472</td>\n",
              "      <td>0.666414</td>\n",
              "    </tr>\n",
              "    <tr>\n",
              "      <th>47</th>\n",
              "      <td>VMail Plan</td>\n",
              "      <td>0.129012</td>\n",
              "      <td>0.114635</td>\n",
              "    </tr>\n",
              "    <tr>\n",
              "      <th>48</th>\n",
              "      <td>VMail Message</td>\n",
              "      <td>-0.968872</td>\n",
              "      <td>0.042241</td>\n",
              "    </tr>\n",
              "    <tr>\n",
              "      <th>49</th>\n",
              "      <td>Day Mins</td>\n",
              "      <td>-0.207815</td>\n",
              "      <td>0.204848</td>\n",
              "    </tr>\n",
              "    <tr>\n",
              "      <th>50</th>\n",
              "      <td>Day Calls</td>\n",
              "      <td>0.527015</td>\n",
              "      <td>0.632923</td>\n",
              "    </tr>\n",
              "    <tr>\n",
              "      <th>51</th>\n",
              "      <td>Day Charge</td>\n",
              "      <td>0.155806</td>\n",
              "      <td>0.740177</td>\n",
              "    </tr>\n",
              "    <tr>\n",
              "      <th>52</th>\n",
              "      <td>Eve Mins</td>\n",
              "      <td>-0.212540</td>\n",
              "      <td>0.991220</td>\n",
              "    </tr>\n",
              "    <tr>\n",
              "      <th>53</th>\n",
              "      <td>Eve Calls</td>\n",
              "      <td>0.825482</td>\n",
              "      <td>0.539088</td>\n",
              "    </tr>\n",
              "    <tr>\n",
              "      <th>54</th>\n",
              "      <td>Eve Charge</td>\n",
              "      <td>1.519833</td>\n",
              "      <td>0.740068</td>\n",
              "    </tr>\n",
              "    <tr>\n",
              "      <th>55</th>\n",
              "      <td>Night Mins</td>\n",
              "      <td>-1.532791</td>\n",
              "      <td>0.450252</td>\n",
              "    </tr>\n",
              "    <tr>\n",
              "      <th>56</th>\n",
              "      <td>Night Calls</td>\n",
              "      <td>-0.318820</td>\n",
              "      <td>0.932373</td>\n",
              "    </tr>\n",
              "    <tr>\n",
              "      <th>57</th>\n",
              "      <td>Night Charge</td>\n",
              "      <td>-0.412091</td>\n",
              "      <td>0.903986</td>\n",
              "    </tr>\n",
              "    <tr>\n",
              "      <th>58</th>\n",
              "      <td>Intl Mins</td>\n",
              "      <td>1.152042</td>\n",
              "      <td>0.378019</td>\n",
              "    </tr>\n",
              "    <tr>\n",
              "      <th>59</th>\n",
              "      <td>Intl Calls</td>\n",
              "      <td>0.955871</td>\n",
              "      <td>0.138067</td>\n",
              "    </tr>\n",
              "    <tr>\n",
              "      <th>60</th>\n",
              "      <td>Intl Charge</td>\n",
              "      <td>-1.552169</td>\n",
              "      <td>0.033291</td>\n",
              "    </tr>\n",
              "    <tr>\n",
              "      <th>61</th>\n",
              "      <td>CustServ Calls</td>\n",
              "      <td>0.653053</td>\n",
              "      <td>0.957008</td>\n",
              "    </tr>\n",
              "    <tr>\n",
              "      <th>62</th>\n",
              "      <td>Churn?</td>\n",
              "      <td>-0.082348</td>\n",
              "      <td>0.260228</td>\n",
              "    </tr>\n",
              "  </tbody>\n",
              "</table>\n",
              "</div>"
            ],
            "text/plain": [
              "       Column Name         A         B\n",
              "42           State  1.353415  0.226638\n",
              "43  Account Length  0.664438  0.570123\n",
              "44       Area Code  0.485812  0.012432\n",
              "45           Phone -3.639078  0.730284\n",
              "46      Int'l Plan -1.527472  0.666414\n",
              "47      VMail Plan  0.129012  0.114635\n",
              "48   VMail Message -0.968872  0.042241\n",
              "49        Day Mins -0.207815  0.204848\n",
              "50       Day Calls  0.527015  0.632923\n",
              "51      Day Charge  0.155806  0.740177\n",
              "52        Eve Mins -0.212540  0.991220\n",
              "53       Eve Calls  0.825482  0.539088\n",
              "54      Eve Charge  1.519833  0.740068\n",
              "55      Night Mins -1.532791  0.450252\n",
              "56     Night Calls -0.318820  0.932373\n",
              "57    Night Charge -0.412091  0.903986\n",
              "58       Intl Mins  1.152042  0.378019\n",
              "59      Intl Calls  0.955871  0.138067\n",
              "60     Intl Charge -1.552169  0.033291\n",
              "61  CustServ Calls  0.653053  0.957008\n",
              "62          Churn? -0.082348  0.260228"
            ]
          },
          "metadata": {
            "tags": []
          },
          "execution_count": 32
        }
      ]
    },
    {
      "cell_type": "code",
      "metadata": {
        "id": "Skfj5VVo9UU9",
        "colab": {
          "base_uri": "https://localhost:8080/",
          "height": 350
        },
        "outputId": "98507785-fb4d-4bee-b3ae-d4ae95374fbf"
      },
      "source": [
        "plt.hist(new_data['A'])"
      ],
      "execution_count": null,
      "outputs": [
        {
          "output_type": "execute_result",
          "data": {
            "text/plain": [
              "(array([1., 1., 4., 1., 3., 3., 3., 1., 3., 1.]),\n",
              " array([-1.33948489, -1.06985231, -0.80021973, -0.53058715, -0.26095457,\n",
              "         0.00867801,  0.27831059,  0.54794316,  0.81757574,  1.08720832,\n",
              "         1.3568409 ]),\n",
              " <a list of 10 Patch objects>)"
            ]
          },
          "metadata": {
            "tags": []
          },
          "execution_count": 29
        },
        {
          "output_type": "display_data",
          "data": {
            "image/png": "[encoded data removed]",
            "text/plain": [
              "<Figure size 432x288 with 1 Axes>"
            ]
          },
          "metadata": {
            "tags": [],
            "needs_background": "light"
          }
        }
      ]
    },
    {
      "cell_type": "code",
      "metadata": {
        "id": "JjfXHBE19qYZ",
        "colab": {
          "base_uri": "https://localhost:8080/",
          "height": 350
        },
        "outputId": "bafd18bb-234a-4544-9ed9-f8309a6a440b"
      },
      "source": [
        "plt.hist(new_data['B'])"
      ],
      "execution_count": null,
      "outputs": [
        {
          "output_type": "execute_result",
          "data": {
            "text/plain": [
              "(array([1., 4., 2., 3., 1., 3., 2., 1., 2., 2.]),\n",
              " array([0.15991327, 0.23924361, 0.31857396, 0.39790431, 0.47723465,\n",
              "        0.556565  , 0.63589534, 0.71522569, 0.79455604, 0.87388638,\n",
              "        0.95321673]),\n",
              " <a list of 10 Patch objects>)"
            ]
          },
          "metadata": {
            "tags": []
          },
          "execution_count": 30
        },
        {
          "output_type": "display_data",
          "data": {
            "image/png": "[encoded data removed]",
            "text/plain": [
              "<Figure size 432x288 with 1 Axes>"
            ]
          },
          "metadata": {
            "tags": [],
            "needs_background": "light"
          }
        }
      ]
    },
    {
      "cell_type": "code",
      "metadata": {
        "id": "Jt5r-fa99vSI"
      },
      "source": [],
      "execution_count": null,
      "outputs": []
    }
  ]
}